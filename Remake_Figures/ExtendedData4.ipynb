{
 "cells": [
  {
   "cell_type": "code",
   "execution_count": 1,
   "metadata": {},
   "outputs": [],
   "source": [
    "import numpy as np\n",
    "import pandas as pd\n",
    "import visualizations\n",
    "from plotly.colors import sample_colorscale"
   ]
  },
  {
   "cell_type": "markdown",
   "metadata": {},
   "source": [
    "### Extended Data 4a"
   ]
  },
  {
   "cell_type": "code",
   "execution_count": null,
   "metadata": {},
   "outputs": [],
   "source": [
    "fig_panel = 'ExtData4a'\n",
    "agg_data = pd.read_csv('../ExtendedData4/{}.csv'.format(fig_panel))\n",
    "\n",
    "groupby = 'Time'\n",
    "separateby = 'Amplitude'\n",
    "plot_var = 'Freezing'\n",
    "\n",
    "colors = sample_colorscale(colorscale='Reds', samplepoints=np.linspace(0.3,0.7,len(agg_data[groupby].unique())))\n",
    "agg_data[groupby] = pd.Categorical(agg_data[groupby], categories=['PreShock1', 'PreShock2', 'PreShock3', 'PreShock4',\n",
    "                                                                  'PostShock1_1', 'PostShock1_2', 'PostShock2_1', 'PostShock2_2', 'PostShock3_1'])\n",
    "agg_data[separateby] = pd.Categorical(agg_data[separateby])\n",
    "\n",
    "visualizations.plotAcrossGroups(agg_data=agg_data, groupby=groupby, separateby=separateby, plot_var=plot_var, colors=colors, opacity=1,\n",
    "                            y_title='% Freezing', y_range=(0,100), plot_width=800, plot_height=500, plot_datalines=True, plot_title=fig_panel)"
   ]
  },
  {
   "cell_type": "markdown",
   "metadata": {},
   "source": [
    "### Extended Data 4b"
   ]
  },
  {
   "cell_type": "code",
   "execution_count": null,
   "metadata": {},
   "outputs": [],
   "source": [
    "fig_panel = 'ExtData4b'\n",
    "agg_data = pd.read_csv('../ExtendedData4/{}.csv'.format(fig_panel))\n",
    "\n",
    "groupby = 'Time'\n",
    "separateby = 'Amplitude'\n",
    "plot_var = 'Motion'\n",
    "\n",
    "colors = np.tile(['white', 'red'], 3)\n",
    "agg_data[groupby] = pd.Categorical(agg_data[groupby], categories=['PreShock1', 'Shock1', 'PreShock2', 'Shock2', 'PreShock3', 'Shock3'])\n",
    "agg_data[separateby] = pd.Categorical(agg_data[separateby])\n",
    "\n",
    "visualizations.plotAcrossGroups(agg_data=agg_data, groupby=groupby, separateby=separateby, plot_var=plot_var, colors=colors, opacity=1,\n",
    "                            y_title='Motion (A.U.)', y_range=(0,5000), plot_width=800, plot_height=500, plot_datalines=True, plot_title=fig_panel)"
   ]
  },
  {
   "cell_type": "markdown",
   "metadata": {},
   "source": [
    "### Extended Data 4c"
   ]
  },
  {
   "cell_type": "code",
   "execution_count": null,
   "metadata": {},
   "outputs": [],
   "source": [
    "fig_panel = 'ExtData4c'\n",
    "agg_data = pd.read_csv('../ExtendedData4/{}.csv'.format(fig_panel))\n",
    "\n",
    "time_var = 'Session'\n",
    "groupby = 'Amplitude'\n",
    "plot_var = 'Fraction'\n",
    "\n",
    "colors = ['slategrey', 'rgb(236,34,42)']\n",
    "agg_data[time_var] = pd.Categorical(agg_data[time_var], categories=['NeutralLearning', 'OfflineDay1',\n",
    "                                                                    'AversiveLearning', 'OfflineDay2',\n",
    "                                                                    'AversiveRecall', 'NeutralRecall', 'NovelRecall'])\n",
    "agg_data[groupby] = pd.Categorical(agg_data[groupby])\n",
    "\n",
    "visualizations.plotAcrossTime(agg_data=agg_data, time_var=time_var, groupby=groupby, plot_var=plot_var, colors=colors, plot_datalines=False, hline_y=100,\n",
    "                              y_title='% Cells Active<br>(Relative to Neutral Encoding)', y_range=(0,150), title=fig_panel)"
   ]
  },
  {
   "cell_type": "markdown",
   "metadata": {},
   "source": [
    "### Extended Data 4d - offline1"
   ]
  },
  {
   "cell_type": "code",
   "execution_count": null,
   "metadata": {},
   "outputs": [],
   "source": [
    "fig_panel = 'ExtData4d_offline1'\n",
    "agg_data = pd.read_csv('../ExtendedData4/{}.csv'.format(fig_panel))\n",
    "\n",
    "time_var = 'TimeBin'\n",
    "groupby = 'Amplitude'\n",
    "plot_var = 'Motion'\n",
    "\n",
    "colors = ['slategrey', 'rgb(236,34,42)']\n",
    "agg_data[time_var] = pd.Categorical(agg_data[time_var])\n",
    "agg_data[groupby] = pd.Categorical(agg_data[groupby])\n",
    "\n",
    "visualizations.plotAcrossTime(agg_data=agg_data, time_var=time_var, groupby=groupby, plot_var=plot_var, colors=colors, plot_datalines=False, add_hline=False,\n",
    "                              y_title='Mean Distance Traveled', x_title='Time (min)', y_range=(0,3.5), title=fig_panel)"
   ]
  },
  {
   "cell_type": "markdown",
   "metadata": {},
   "source": [
    "### Extended Data 4d - offline2"
   ]
  },
  {
   "cell_type": "code",
   "execution_count": null,
   "metadata": {},
   "outputs": [],
   "source": [
    "fig_panel = 'ExtData4d_offline2'\n",
    "agg_data = pd.read_csv('../ExtendedData4/{}.csv'.format(fig_panel))\n",
    "\n",
    "time_var = 'TimeBin'\n",
    "groupby = 'Amplitude'\n",
    "plot_var = 'Motion'\n",
    "\n",
    "colors = ['slategrey', 'rgb(236,34,42)']\n",
    "agg_data[time_var] = pd.Categorical(agg_data[time_var])\n",
    "agg_data[groupby] = pd.Categorical(agg_data[groupby])\n",
    "\n",
    "visualizations.plotAcrossTime(agg_data=agg_data, time_var=time_var, groupby=groupby, plot_var=plot_var, colors=colors, plot_datalines=False, add_hline=False,\n",
    "                              y_title='Mean Distance Traveled', x_title='Time (min)', y_range=(0,3.5), title=fig_panel)"
   ]
  },
  {
   "cell_type": "markdown",
   "metadata": {},
   "source": [
    "### Extended Data 4e - pie"
   ]
  },
  {
   "cell_type": "code",
   "execution_count": null,
   "metadata": {},
   "outputs": [],
   "source": [
    "fig_panel = 'ExtData4e_pie'\n",
    "agg_data = pd.read_csv('../ExtendedData4/{}.csv'.format(fig_panel))\n",
    "\n",
    "groupby = 'Ensemble'\n",
    "separateby = 'Amplitude'\n",
    "plot_var = 'CellProportion'\n",
    "\n",
    "colors = ['blue', 'white']\n",
    "agg_data[groupby] = pd.Categorical(agg_data[groupby])\n",
    "agg_data[separateby] = pd.Categorical(agg_data[separateby])\n",
    "\n",
    "visualizations.plotAcrossGroups(agg_data=agg_data, groupby=groupby, separateby=separateby, plot_var=plot_var, colors=colors, opacity=1,\n",
    "                            y_title='Percent of Population', y_range=(0,100), plot_datalines=True, plot_title=fig_panel)"
   ]
  },
  {
   "cell_type": "markdown",
   "metadata": {},
   "source": [
    "### Extended Data 4e - line"
   ]
  },
  {
   "cell_type": "code",
   "execution_count": null,
   "metadata": {},
   "outputs": [],
   "source": [
    "fig_panel = 'ExtData4e_line'\n",
    "agg_data = pd.read_csv('../ExtendedData4/{}.csv'.format(fig_panel))\n",
    "agg_data['TimeBin'] = agg_data['TimeBin'] * 10 # convert to min\n",
    "\n",
    "time_var = 'TimeBin'\n",
    "groupby = 'Ensemble'\n",
    "separateby = 'Amplitude'\n",
    "plot_var = 'Activity'\n",
    "\n",
    "colors = ['rgb(0,50,255)', 'slategrey']\n",
    "agg_data[time_var] = pd.Categorical(agg_data[time_var])\n",
    "agg_data[groupby] = pd.Categorical(agg_data[groupby])\n",
    "agg_data[separateby] = pd.Categorical(agg_data[separateby])\n",
    "\n",
    "visualizations.plotAcrossTime(agg_data=agg_data, time_var=time_var, groupby=groupby, separateby=separateby, plot_var=plot_var, colors=colors, plot_datalines=False, add_hline=False,\n",
    "                              y_title='Calcium Event Rate<br>(Z-Scored)', x_title='Time (min)',plot_width=700, h_spacing=0.1, title=fig_panel)"
   ]
  },
  {
   "cell_type": "markdown",
   "metadata": {},
   "source": [
    "### Extended Data 4f - pie"
   ]
  },
  {
   "cell_type": "code",
   "execution_count": null,
   "metadata": {},
   "outputs": [],
   "source": [
    "fig_panel = 'ExtData4f_pie'\n",
    "agg_data = pd.read_csv('../ExtendedData4/{}.csv'.format(fig_panel))\n",
    "\n",
    "groupby = 'Ensemble'\n",
    "separateby = 'Amplitude'\n",
    "plot_var = 'CellProportion'\n",
    "\n",
    "colors = ['rgb(236,34,42)', 'rgb(144,96,129)', 'rgb(0,50,255)', 'rgb(255,255,255)']\n",
    "agg_data[groupby] = pd.Categorical(agg_data[groupby], categories=['Aversive Only', 'Overlap', 'Neutral Only', 'Remaining'])\n",
    "agg_data[separateby] = pd.Categorical(agg_data[separateby])\n",
    "\n",
    "visualizations.plotAcrossGroups(agg_data=agg_data, groupby=groupby, separateby=separateby, plot_var=plot_var, colors=colors, opacity=1,\n",
    "                            y_title='Percent of Population', y_range=(0,100), plot_datalines=True, plot_title=fig_panel)"
   ]
  },
  {
   "cell_type": "markdown",
   "metadata": {},
   "source": [
    "### Extended Data 4f - line"
   ]
  },
  {
   "cell_type": "code",
   "execution_count": null,
   "metadata": {},
   "outputs": [],
   "source": [
    "fig_panel = 'ExtData4f_line'\n",
    "agg_data = pd.read_csv('../ExtendedData4/{}.csv'.format(fig_panel))\n",
    "agg_data['TimeBin'] = agg_data['TimeBin'] * 10 # convert to min\n",
    "\n",
    "time_var = 'TimeBin'\n",
    "groupby = 'Ensemble'\n",
    "separateby = 'Amplitude'\n",
    "plot_var = 'Activity'\n",
    "\n",
    "colors = ['rgb(236,34,42)', 'rgb(144,96,129)', 'rgb(0,50,255)', 'slategrey']\n",
    "agg_data[time_var] = pd.Categorical(agg_data[time_var])\n",
    "agg_data[groupby] = pd.Categorical(agg_data[groupby], categories=['Aversive Only', 'Overlap', 'Neutral Only', 'Remaining'])\n",
    "agg_data[separateby] = pd.Categorical(agg_data[separateby])\n",
    "\n",
    "visualizations.plotAcrossTime(agg_data=agg_data, time_var=time_var, groupby=groupby, separateby=separateby, plot_var=plot_var, colors=colors, plot_datalines=False, add_hline=False,\n",
    "                              y_title='Calcium Event Rate<br>(Z-Scored)', x_title='Time (min)',plot_width=700, plot_height=400, h_spacing=0.1, title=fig_panel)"
   ]
  },
  {
   "cell_type": "markdown",
   "metadata": {},
   "source": [
    "### Extended Data 4g - pie"
   ]
  },
  {
   "cell_type": "code",
   "execution_count": null,
   "metadata": {},
   "outputs": [],
   "source": [
    "fig_panel = 'ExtData4g_pie'\n",
    "agg_data = pd.read_csv('../ExtendedData4/{}.csv'.format(fig_panel))\n",
    "\n",
    "groupby = 'Ensemble'\n",
    "separateby = 'Amplitude'\n",
    "plot_var = 'CellProportion'\n",
    "\n",
    "colors = ['rgb(236,34,42)', 'white']\n",
    "agg_data[groupby] = pd.Categorical(agg_data[groupby])\n",
    "agg_data[separateby] = pd.Categorical(agg_data[separateby])\n",
    "\n",
    "visualizations.plotAcrossGroups(agg_data=agg_data, groupby=groupby, separateby=separateby, plot_var=plot_var, colors=colors, opacity=1,\n",
    "                            y_title='Percent of Population', y_range=(0,100), plot_datalines=True, plot_title=fig_panel)"
   ]
  },
  {
   "cell_type": "markdown",
   "metadata": {},
   "source": [
    "### Extended Data 4g - line"
   ]
  },
  {
   "cell_type": "code",
   "execution_count": null,
   "metadata": {},
   "outputs": [],
   "source": [
    "fig_panel = 'ExtData4g_line'\n",
    "agg_data = pd.read_csv('../ExtendedData4/{}.csv'.format(fig_panel))\n",
    "agg_data['TimeBin'] = agg_data['TimeBin'] * 10 # convert to min\n",
    "\n",
    "time_var = 'TimeBin'\n",
    "groupby = 'Ensemble'\n",
    "separateby = 'Amplitude'\n",
    "plot_var = 'Activity'\n",
    "\n",
    "colors = ['rgb(236,34,42)', 'slategrey']\n",
    "agg_data[time_var] = pd.Categorical(agg_data[time_var])\n",
    "agg_data[groupby] = pd.Categorical(agg_data[groupby], categories=['Aversive', 'Remaining'])\n",
    "agg_data[separateby] = pd.Categorical(agg_data[separateby])\n",
    "\n",
    "visualizations.plotAcrossTime(agg_data=agg_data, time_var=time_var, groupby=groupby, separateby=separateby, plot_var=plot_var, colors=colors, plot_datalines=False, add_hline=False,\n",
    "                              y_title='Calcium Event Rate<br>(Z-Scored)', x_title='Time (min)',plot_width=700, h_spacing=0.1, title=fig_panel)"
   ]
  },
  {
   "cell_type": "markdown",
   "metadata": {},
   "source": [
    "### Extended Data 4h"
   ]
  },
  {
   "cell_type": "code",
   "execution_count": null,
   "metadata": {},
   "outputs": [],
   "source": [
    "fig_panel = 'ExtData4h'\n",
    "agg_data = pd.read_csv('../ExtendedData4/{}.csv'.format(fig_panel))\n",
    "agg_data['Bin'] = agg_data['Bin']\n",
    "\n",
    "time_var = 'Bin'\n",
    "separateby = 'Amplitude'\n",
    "plot_var = 'EventFrequency'\n",
    "\n",
    "colors = ['black']\n",
    "agg_data[time_var] = pd.Categorical(agg_data[time_var])\n",
    "agg_data[separateby] = pd.Categorical(agg_data[separateby])\n",
    "\n",
    "visualizations.plotAcrossTime(agg_data=agg_data, time_var=time_var, separateby=separateby, plot_var=plot_var, colors=colors, plot_datalines=True, add_hline=False,\n",
    "                              y_title='Event Frequency', x_title='Time (min)',plot_width=700, h_spacing=0.1, title=fig_panel)"
   ]
  },
  {
   "cell_type": "markdown",
   "metadata": {},
   "source": [
    "### Extended Data 4i"
   ]
  },
  {
   "cell_type": "code",
   "execution_count": null,
   "metadata": {},
   "outputs": [],
   "source": [
    "fig_panel = 'ExtData4i'\n",
    "agg_data = pd.read_csv('../ExtendedData4/{}.csv'.format(fig_panel))\n",
    "agg_data['Bin'] = agg_data['Bin']\n",
    "\n",
    "time_var = 'Bin'\n",
    "separateby = 'Amplitude'\n",
    "plot_var = 'EventFrequency'\n",
    "\n",
    "colors = ['black']\n",
    "agg_data[time_var] = pd.Categorical(agg_data[time_var])\n",
    "agg_data[separateby] = pd.Categorical(agg_data[separateby])\n",
    "\n",
    "visualizations.plotAcrossTime(agg_data=agg_data, time_var=time_var, separateby=separateby, plot_var=plot_var, colors=colors, plot_datalines=True, add_hline=False,\n",
    "                              y_title='Event Frequency', x_title='Time (min)',plot_width=700, h_spacing=0.1, title=fig_panel)"
   ]
  },
  {
   "cell_type": "markdown",
   "metadata": {},
   "source": [
    "### Extended Data 4j"
   ]
  },
  {
   "cell_type": "code",
   "execution_count": null,
   "metadata": {},
   "outputs": [],
   "source": [
    "fig_panel = 'ExtData4j'\n",
    "agg_data = pd.read_csv('../ExtendedData4/{}.csv'.format(fig_panel))\n",
    "agg_data = agg_data[agg_data['Ensemble'] != 'Remaining'] # for co-bursting, only combinations of these 3 ensembles were measured\n",
    "agg_data['Bin'] = agg_data['Bin'] / 60 # convert to min\n",
    "\n",
    "time_var = 'Bin'\n",
    "groupby = 'Ensemble'\n",
    "separateby = 'Amplitude'\n",
    "plot_var = 'EventFrequency'\n",
    "\n",
    "colors = ['rgb(236,34,42)', 'rgb(144,96,129)', 'rgb(0,50,255)']\n",
    "agg_data[time_var] = pd.Categorical(agg_data[time_var])\n",
    "agg_data[groupby] = pd.Categorical(agg_data[groupby])\n",
    "agg_data[separateby] = pd.Categorical(agg_data[separateby])\n",
    "\n",
    "visualizations.plotAcrossTime(agg_data=agg_data, time_var=time_var, groupby=groupby, separateby=separateby, plot_var=plot_var, colors=colors, plot_datalines=False, add_hline=False,\n",
    "                              y_title='Event Frequency', x_title='Time (min)',plot_width=700, h_spacing=0.1, y_range=(0,9), title=fig_panel)"
   ]
  },
  {
   "cell_type": "markdown",
   "metadata": {},
   "source": [
    "### Extended Data 4k"
   ]
  },
  {
   "cell_type": "code",
   "execution_count": null,
   "metadata": {},
   "outputs": [],
   "source": [
    "fig_panel = 'ExtData4k'\n",
    "agg_data = pd.read_csv('../ExtendedData4/{}.csv'.format(fig_panel))\n",
    "\n",
    "groupby = 'EnsembleCombo'\n",
    "separateby = 'Amplitude'\n",
    "plot_var = 'Corr'\n",
    "\n",
    "colors = ['rgb(236,34,42)', 'rgb(0,50,255)']\n",
    "agg_data[groupby] = pd.Categorical(agg_data[groupby])\n",
    "agg_data[separateby] = pd.Categorical(agg_data[separateby])\n",
    "\n",
    "visualizations.plotAcrossGroups(agg_data=agg_data, groupby=groupby, separateby=separateby, plot_var=plot_var, colors=colors, opacity=1,\n",
    "                            y_title='Kendall Tau<br>Correlation', y_range=(0,0.5), plot_datalines=True, plot_title=fig_panel)"
   ]
  },
  {
   "cell_type": "markdown",
   "metadata": {},
   "source": [
    "### Extended Data 4l"
   ]
  },
  {
   "cell_type": "code",
   "execution_count": null,
   "metadata": {},
   "outputs": [],
   "source": [
    "fig_panel = 'ExtData4l'\n",
    "agg_data = pd.read_csv('../ExtendedData4/{}.csv'.format(fig_panel))\n",
    "agg_data = agg_data[['x' in ensemble_combo for ensemble_combo in agg_data['EnsembleCombo']]]\n",
    "\n",
    "groupby = 'EnsembleCombo'\n",
    "separateby = 'Amplitude'\n",
    "plot_var = 'Fraction'\n",
    "\n",
    "colors = 'slategrey'\n",
    "agg_data[groupby] = pd.Categorical(agg_data[groupby], categories=['Overlap x Neutral', 'Overlap x Aversive', 'Neutral x Aversive', 'Overlap x Neutral x Aversive'])\n",
    "agg_data[separateby] = pd.Categorical(agg_data[separateby])\n",
    "\n",
    "visualizations.plotAcrossGroups(agg_data=agg_data, groupby=groupby, separateby=separateby, plot_var=plot_var, colors=colors, opacity=1,\n",
    "                            y_title='% of Events <br>Coincident Participation', y_range=(0,25), plot_datalines=True, plot_title=fig_panel)"
   ]
  },
  {
   "cell_type": "markdown",
   "metadata": {},
   "source": [
    "### Extended Data 4m"
   ]
  },
  {
   "cell_type": "code",
   "execution_count": null,
   "metadata": {},
   "outputs": [],
   "source": [
    "fig_panel = 'ExtData4m'\n",
    "agg_data = pd.read_csv('../ExtendedData4/{}.csv'.format(fig_panel))\n",
    "agg_data = agg_data[['x' in ensemble_combo for ensemble_combo in agg_data['EnsembleCombo']]]\n",
    "\n",
    "groupby = 'EnsembleCombo'\n",
    "separateby = 'Amplitude'\n",
    "plot_var = 'Fraction'\n",
    "\n",
    "colors = 'slategrey'\n",
    "agg_data[groupby] = pd.Categorical(agg_data[groupby], categories=['Overlap x Neutral', 'Overlap x Aversive', 'Neutral x Aversive', 'Overlap x Neutral x Aversive'])\n",
    "agg_data[separateby] = pd.Categorical(agg_data[separateby])\n",
    "\n",
    "visualizations.plotAcrossGroups(agg_data=agg_data, groupby=groupby, separateby=separateby, plot_var=plot_var, colors=colors, opacity=1,\n",
    "                            y_title='% of Events <br>Coincident Participation', y_range=(0,3), plot_datalines=True, plot_title=fig_panel)"
   ]
  },
  {
   "cell_type": "markdown",
   "metadata": {},
   "source": [
    "### Extended Data 4n - independent"
   ]
  },
  {
   "cell_type": "code",
   "execution_count": null,
   "metadata": {},
   "outputs": [],
   "source": [
    "fig_panel = 'ExtData4n_independent'\n",
    "agg_data = pd.read_csv('../ExtendedData4/{}.csv'.format(fig_panel))\n",
    "\n",
    "groupby = 'EnsembleCombo'\n",
    "separateby = 'Amplitude'\n",
    "plot_var = 'Fraction'\n",
    "\n",
    "colors = ['rgb(0,50,255)', 'rgb(236,34,42)', 'rgb(144,96,129)']\n",
    "agg_data[groupby] = pd.Categorical(agg_data[groupby], categories=['Neutral', 'Aversive', 'Overlap'])\n",
    "agg_data[separateby] = pd.Categorical(agg_data[separateby])\n",
    "\n",
    "visualizations.plotAcrossGroups(agg_data=agg_data, groupby=groupby, separateby=separateby, plot_var=plot_var, colors=colors, opacity=1,\n",
    "                            y_title='Chance Independent<br>Participation', y_range=(0,8), plot_datalines=True, plot_title=fig_panel)"
   ]
  },
  {
   "cell_type": "markdown",
   "metadata": {},
   "source": [
    "### Extended Data 4n - coburst"
   ]
  },
  {
   "cell_type": "code",
   "execution_count": null,
   "metadata": {},
   "outputs": [],
   "source": [
    "fig_panel = 'ExtData4n_coburst'\n",
    "agg_data = pd.read_csv('../ExtendedData4/{}.csv'.format(fig_panel))\n",
    "\n",
    "groupby = 'EnsembleCombo'\n",
    "separateby = 'Amplitude'\n",
    "plot_var = 'Fraction'\n",
    "\n",
    "colors = 'slategrey'\n",
    "agg_data[groupby] = pd.Categorical(agg_data[groupby], categories=['Overlap x Neutral', 'Overlap x Aversive', 'Neutral x Aversive', 'Overlap x Neutral x Aversive'])\n",
    "agg_data[separateby] = pd.Categorical(agg_data[separateby])\n",
    "\n",
    "visualizations.plotAcrossGroups(agg_data=agg_data, groupby=groupby, separateby=separateby, plot_var=plot_var, colors=colors, opacity=1,\n",
    "                            y_title='Chance Coincident<br>Participation', y_range=(0,0.5), plot_datalines=True, plot_title=fig_panel)"
   ]
  },
  {
   "cell_type": "markdown",
   "metadata": {},
   "source": [
    "### Extended Data 4o - independent"
   ]
  },
  {
   "cell_type": "code",
   "execution_count": null,
   "metadata": {},
   "outputs": [],
   "source": [
    "fig_panel = 'ExtData4o_independent'\n",
    "agg_data = pd.read_csv('../ExtendedData4/{}.csv'.format(fig_panel))\n",
    "\n",
    "groupby = 'EnsembleCombo'\n",
    "separateby = 'Amplitude'\n",
    "plot_var = 'Fraction'\n",
    "\n",
    "colors = ['rgb(0,50,255)', 'rgb(236,34,42)', 'rgb(144,96,129)']\n",
    "agg_data[groupby] = pd.Categorical(agg_data[groupby], categories=['Neutral', 'Aversive', 'Overlap'])\n",
    "agg_data[separateby] = pd.Categorical(agg_data[separateby])\n",
    "\n",
    "visualizations.plotAcrossGroups(agg_data=agg_data, groupby=groupby, separateby=separateby, plot_var=plot_var, colors=colors, opacity=1,\n",
    "                            y_title='Chance-Corrected<br>Independent Participation', y_range=(0,8), plot_datalines=True, plot_title=fig_panel)"
   ]
  },
  {
   "cell_type": "markdown",
   "metadata": {},
   "source": [
    "### Extended Data 4o - coburst"
   ]
  },
  {
   "cell_type": "code",
   "execution_count": null,
   "metadata": {},
   "outputs": [],
   "source": [
    "fig_panel = 'ExtData4o_coburst'\n",
    "agg_data = pd.read_csv('../ExtendedData4/{}.csv'.format(fig_panel))\n",
    "\n",
    "groupby = 'EnsembleCombo'\n",
    "separateby = 'Amplitude'\n",
    "plot_var = 'Fraction'\n",
    "\n",
    "colors = 'slategrey'\n",
    "agg_data[groupby] = pd.Categorical(agg_data[groupby], categories=['Overlap x Neutral', 'Overlap x Aversive', 'Neutral x Aversive', 'Overlap x Neutral x Aversive'])\n",
    "agg_data[separateby] = pd.Categorical(agg_data[separateby])\n",
    "\n",
    "visualizations.plotAcrossGroups(agg_data=agg_data, groupby=groupby, separateby=separateby, plot_var=plot_var, colors=colors, opacity=1,\n",
    "                            y_title='Chance-Corrected<br>Coincident Participation', y_range=(0,2500), plot_datalines=True, plot_title=fig_panel)"
   ]
  },
  {
   "cell_type": "markdown",
   "metadata": {},
   "source": [
    "### Extended Data 4p"
   ]
  },
  {
   "cell_type": "code",
   "execution_count": null,
   "metadata": {},
   "outputs": [],
   "source": [
    "fig_panel = 'ExtData4p'\n",
    "agg_data = pd.read_csv('../ExtendedData4/{}.csv'.format(fig_panel))\n",
    "visualizations.plotCorrelation_multifit(data_x=agg_data['Freezing'], data_y=agg_data['Overlap'],\n",
    "                                        x_title='Novel Recall<br>Freezing', y_title='Intersection / Novel', groups=agg_data['Amplitude'], title=fig_panel, marker_size=10,\n",
    "                                        colors=['red' if group == '1.5mA' else 'slategrey' if group=='0.25mA' else Exception('Invalid Group.') for group in agg_data['Amplitude']])"
   ]
  },
  {
   "cell_type": "markdown",
   "metadata": {},
   "source": [
    "### Extended Data 4q"
   ]
  },
  {
   "cell_type": "code",
   "execution_count": null,
   "metadata": {},
   "outputs": [],
   "source": [
    "fig_panel = 'ExtData4q'\n",
    "agg_data = pd.read_csv('../ExtendedData4/{}.csv'.format(fig_panel))\n",
    "\n",
    "groupby = 'RecallSession'\n",
    "separateby = 'Amplitude'\n",
    "plot_var = 'FractionActive'\n",
    "\n",
    "colors = 'rgb(0,50,255)'\n",
    "agg_data[groupby] = pd.Categorical(agg_data[groupby])\n",
    "agg_data[separateby] = pd.Categorical(agg_data[separateby])\n",
    "\n",
    "visualizations.plotAcrossGroups(agg_data=agg_data, groupby=groupby, separateby=separateby, plot_var=plot_var, colors=colors, opacity=1, plot_mode='point', mean_line_color=colors,\n",
    "                            y_title='% Recall Cells Active', y_range=(0,50), plot_datalines=True, plot_title=fig_panel)"
   ]
  },
  {
   "cell_type": "markdown",
   "metadata": {},
   "source": [
    "### Extended Data 4r"
   ]
  },
  {
   "cell_type": "code",
   "execution_count": null,
   "metadata": {},
   "outputs": [],
   "source": [
    "fig_panel = 'ExtData4r'\n",
    "agg_data = pd.read_csv('../ExtendedData4/{}.csv'.format(fig_panel))\n",
    "\n",
    "groupby = 'RecallSession'\n",
    "separateby = 'Amplitude'\n",
    "plot_var = 'FractionActive'\n",
    "\n",
    "colors = 'rgb(236,34,42)'\n",
    "agg_data[groupby] = pd.Categorical(agg_data[groupby])\n",
    "agg_data[separateby] = pd.Categorical(agg_data[separateby])\n",
    "\n",
    "visualizations.plotAcrossGroups(agg_data=agg_data, groupby=groupby, separateby=separateby, plot_var=plot_var, colors=colors, opacity=1, plot_mode='point', mean_line_color=colors,\n",
    "                            y_title='% Recall Cells Active', y_range=(0,50), plot_datalines=True, plot_title=fig_panel)"
   ]
  },
  {
   "cell_type": "markdown",
   "metadata": {},
   "source": [
    "### Extended Data 4s"
   ]
  },
  {
   "cell_type": "code",
   "execution_count": null,
   "metadata": {},
   "outputs": [],
   "source": [
    "fig_panel = 'ExtData4s'\n",
    "agg_data = pd.read_csv('../ExtendedData4/{}.csv'.format(fig_panel))\n",
    "\n",
    "groupby = 'RecallSession'\n",
    "separateby = 'Amplitude'\n",
    "plot_var = 'FractionActive'\n",
    "\n",
    "colors = 'rgb(144,96,129)'\n",
    "agg_data[groupby] = pd.Categorical(agg_data[groupby])\n",
    "agg_data[separateby] = pd.Categorical(agg_data[separateby])\n",
    "\n",
    "visualizations.plotAcrossGroups(agg_data=agg_data, groupby=groupby, separateby=separateby, plot_var=plot_var, colors=colors, opacity=1, plot_mode='point', mean_line_color=colors,\n",
    "                            y_title='% Recall Cells Active', y_range=(0,50), plot_datalines=True, plot_title=fig_panel)"
   ]
  },
  {
   "cell_type": "code",
   "execution_count": null,
   "metadata": {},
   "outputs": [],
   "source": []
  }
 ],
 "metadata": {
  "kernelspec": {
   "display_name": "calcium",
   "language": "python",
   "name": "python3"
  },
  "language_info": {
   "codemirror_mode": {
    "name": "ipython",
    "version": 3
   },
   "file_extension": ".py",
   "mimetype": "text/x-python",
   "name": "python",
   "nbconvert_exporter": "python",
   "pygments_lexer": "ipython3",
   "version": "3.8.12"
  }
 },
 "nbformat": 4,
 "nbformat_minor": 2
}
