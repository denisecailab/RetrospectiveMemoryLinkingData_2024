{
 "cells": [
  {
   "cell_type": "code",
   "execution_count": 1,
   "metadata": {},
   "outputs": [],
   "source": [
    "import pandas as pd\n",
    "import visualizations"
   ]
  },
  {
   "cell_type": "markdown",
   "metadata": {},
   "source": [
    "### Fig 6a - Neutral Only"
   ]
  },
  {
   "cell_type": "code",
   "execution_count": null,
   "metadata": {},
   "outputs": [],
   "source": [
    "fig_panel = 'Fig_6a'\n",
    "ensemble = 'Neutral Only'\n",
    "agg_data = pd.read_csv('../Figure6/{}.csv'.format(fig_panel))\n",
    "agg_data = agg_data[agg_data['Ensemble'] == ensemble]\n",
    "\n",
    "groupby = 'Amplitude'\n",
    "plot_var = 'DiffFraction'\n",
    "\n",
    "colors = 'rgb(0,50,255)'\n",
    "agg_data[groupby] = pd.Categorical(agg_data[groupby], categories=['LowShock', 'HighShock'])\n",
    "\n",
    "visualizations.plotMeanData(agg_data=agg_data, groupby=groupby, plot_var=plot_var, colors=colors, opacity=1,\n",
    "                            y_title='Reactivation Index', y_range=(-9,9), plot_datapoints=True, plot_title=fig_panel)"
   ]
  },
  {
   "cell_type": "markdown",
   "metadata": {},
   "source": [
    "### Fig 6a - Aversive Only"
   ]
  },
  {
   "cell_type": "code",
   "execution_count": null,
   "metadata": {},
   "outputs": [],
   "source": [
    "fig_panel = 'Fig_6a'\n",
    "ensemble = 'Aversive Only'\n",
    "agg_data = pd.read_csv('../Figure6/{}.csv'.format(fig_panel))\n",
    "agg_data = agg_data[agg_data['Ensemble'] == ensemble]\n",
    "\n",
    "groupby = 'Amplitude'\n",
    "plot_var = 'DiffFraction'\n",
    "\n",
    "colors = 'rgb(255,50,0)'\n",
    "agg_data[groupby] = pd.Categorical(agg_data[groupby], categories=['LowShock', 'HighShock'])\n",
    "\n",
    "visualizations.plotMeanData(agg_data=agg_data, groupby=groupby, plot_var=plot_var, colors=colors, opacity=1,\n",
    "                            y_title='Reactivation Index', y_range=(-9,9), plot_datapoints=True, plot_title=fig_panel)"
   ]
  },
  {
   "cell_type": "markdown",
   "metadata": {},
   "source": [
    "### Fig 6a - Overlap"
   ]
  },
  {
   "cell_type": "code",
   "execution_count": null,
   "metadata": {},
   "outputs": [],
   "source": [
    "fig_panel = 'Fig_6a'\n",
    "ensemble = 'Overlap'\n",
    "agg_data = pd.read_csv('../Figure6/{}.csv'.format(fig_panel))\n",
    "agg_data = agg_data[agg_data['Ensemble'] == ensemble]\n",
    "\n",
    "groupby = 'Amplitude'\n",
    "plot_var = 'DiffFraction'\n",
    "\n",
    "colors = 'rgb(144,96,129)'\n",
    "agg_data[groupby] = pd.Categorical(agg_data[groupby], categories=['LowShock', 'HighShock'])\n",
    "\n",
    "visualizations.plotMeanData(agg_data=agg_data, groupby=groupby, plot_var=plot_var, colors=colors, opacity=1,\n",
    "                            y_title='Reactivation Index', y_range=(-9,9), plot_datapoints=True, plot_title=fig_panel)"
   ]
  },
  {
   "cell_type": "markdown",
   "metadata": {},
   "source": [
    "### Fig 6b"
   ]
  },
  {
   "cell_type": "code",
   "execution_count": null,
   "metadata": {},
   "outputs": [],
   "source": [
    "fig_panel = 'Fig_6b'\n",
    "agg_data = pd.read_csv('../Figure6/{}.csv'.format(fig_panel))\n",
    "groupby = 'SessionPair'\n",
    "separateby = 'Amplitude'\n",
    "plot_var = 'Corr'\n",
    "\n",
    "colors = ['rgb(255,50,0)', 'rgb(0,50,255)']\n",
    "agg_data[groupby] = pd.Categorical(agg_data[groupby])\n",
    "agg_data[separateby] = pd.Categorical(agg_data[separateby], categories=['LowShock', 'HighShock'])\n",
    "\n",
    "visualizations.plotAcrossGroups(agg_data=agg_data, groupby=groupby, separateby=separateby, plot_var=plot_var, plot_width=500,\n",
    "                                colors=colors, opacity=1, y_title='Kendall Tau correlation<br>(encoding to recall)', y_range=(0,0.45), plot_datalines=True, plot_title=fig_panel)"
   ]
  },
  {
   "cell_type": "code",
   "execution_count": null,
   "metadata": {},
   "outputs": [],
   "source": []
  },
  {
   "cell_type": "code",
   "execution_count": null,
   "metadata": {},
   "outputs": [],
   "source": []
  }
 ],
 "metadata": {
  "kernelspec": {
   "display_name": "calcium",
   "language": "python",
   "name": "python3"
  },
  "language_info": {
   "codemirror_mode": {
    "name": "ipython",
    "version": 3
   },
   "file_extension": ".py",
   "mimetype": "text/x-python",
   "name": "python",
   "nbconvert_exporter": "python",
   "pygments_lexer": "ipython3",
   "version": "3.8.12"
  }
 },
 "nbformat": 4,
 "nbformat_minor": 2
}
