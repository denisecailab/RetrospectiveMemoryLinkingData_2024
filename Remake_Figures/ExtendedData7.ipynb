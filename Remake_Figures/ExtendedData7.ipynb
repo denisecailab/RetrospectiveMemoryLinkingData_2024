{
 "cells": [
  {
   "cell_type": "code",
   "execution_count": 1,
   "metadata": {},
   "outputs": [],
   "source": [
    "import pandas as pd\n",
    "import visualizations\n",
    "import plotly.graph_objects as go"
   ]
  },
  {
   "cell_type": "markdown",
   "metadata": {},
   "source": [
    "### Extended Data 7a"
   ]
  },
  {
   "cell_type": "code",
   "execution_count": null,
   "metadata": {},
   "outputs": [],
   "source": [
    "fig_panel = 'ExtData7a'\n",
    "agg_data = pd.read_csv('../ExtendedData7/{}.csv'.format(fig_panel))\n",
    "\n",
    "groupby = 'TrueVsShuffle'\n",
    "separateby = 'Amplitude'\n",
    "plot_var = 'Accuracy'\n",
    "\n",
    "colors = ['steelblue', 'slategrey']\n",
    "agg_data[groupby] = pd.Categorical(agg_data[groupby], categories=['True', 'Shuffle'])\n",
    "agg_data[separateby] = pd.Categorical(agg_data[separateby])\n",
    "\n",
    "visualizations.plotAcrossGroups(agg_data=agg_data, groupby=groupby, separateby=separateby, plot_var=plot_var, colors=colors, opacity=1,\n",
    "                            y_title='Accuracy', y_range=(0,1), plot_datalines=True, plot_title=fig_panel)"
   ]
  },
  {
   "cell_type": "markdown",
   "metadata": {},
   "source": [
    "### Extended Data 7b"
   ]
  },
  {
   "cell_type": "code",
   "execution_count": null,
   "metadata": {},
   "outputs": [],
   "source": [
    "fig_panel = 'ExtData7b'\n",
    "agg_data = pd.read_csv('../ExtendedData7/{}.csv'.format(fig_panel))\n",
    "\n",
    "groupby = 'Intra_Inter'\n",
    "separateby = 'Amplitude'\n",
    "plot_var = 'Corr'\n",
    "\n",
    "colors = ['slategrey', 'steelblue']\n",
    "agg_data[groupby] = pd.Categorical(agg_data[groupby], categories=['Inter', 'Intra'])\n",
    "agg_data[separateby] = pd.Categorical(agg_data[separateby])\n",
    "\n",
    "visualizations.plotAcrossGroups(agg_data=agg_data, groupby=groupby, separateby=separateby, plot_var=plot_var, colors=colors, opacity=1,\n",
    "                            y_title='Correlation', y_range=(-0.6,0.6), plot_datalines=True, plot_title=fig_panel)"
   ]
  },
  {
   "cell_type": "markdown",
   "metadata": {},
   "source": [
    "### Extended Data 7c"
   ]
  },
  {
   "cell_type": "code",
   "execution_count": null,
   "metadata": {},
   "outputs": [],
   "source": [
    "fig_panel = 'ExtData7c'\n",
    "agg_data = pd.read_csv('../ExtendedData7/{}.csv'.format(fig_panel))\n",
    "\n",
    "groupby = 'Amplitude'\n",
    "plot_var = 'FractionActive'\n",
    "\n",
    "colors = ['steelblue', 'darkred']\n",
    "agg_data[groupby] = pd.Categorical(agg_data[groupby])\n",
    "\n",
    "visualizations.plotMeanData(agg_data=agg_data, groupby=groupby, plot_var=plot_var, colors=colors, opacity=1,\n",
    "                            y_title='Intersection / Aversive', y_range=(0,60), plot_width=350, plot_datapoints=True, plot_title=fig_panel)"
   ]
  },
  {
   "cell_type": "code",
   "execution_count": null,
   "metadata": {},
   "outputs": [],
   "source": []
  }
 ],
 "metadata": {
  "kernelspec": {
   "display_name": "calcium",
   "language": "python",
   "name": "python3"
  },
  "language_info": {
   "codemirror_mode": {
    "name": "ipython",
    "version": 3
   },
   "file_extension": ".py",
   "mimetype": "text/x-python",
   "name": "python",
   "nbconvert_exporter": "python",
   "pygments_lexer": "ipython3",
   "version": "3.8.12"
  }
 },
 "nbformat": 4,
 "nbformat_minor": 2
}
