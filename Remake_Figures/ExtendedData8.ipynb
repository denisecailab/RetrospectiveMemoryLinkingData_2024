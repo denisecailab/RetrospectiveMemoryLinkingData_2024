{
 "cells": [
  {
   "cell_type": "code",
   "execution_count": 1,
   "metadata": {},
   "outputs": [],
   "source": [
    "import numpy as np\n",
    "import pandas as pd\n",
    "import visualizations\n",
    "from plotly.colors import sample_colorscale"
   ]
  },
  {
   "cell_type": "markdown",
   "metadata": {},
   "source": [
    "### Extended Data 8b - motion"
   ]
  },
  {
   "cell_type": "code",
   "execution_count": null,
   "metadata": {},
   "outputs": [],
   "source": [
    "fig_panel = 'ExtData8b_motion'\n",
    "agg_data = pd.read_csv('../ExtendedData8/{}.csv'.format(fig_panel))\n",
    "\n",
    "groupby = 'Time'\n",
    "plot_var = 'Motion'\n",
    "\n",
    "colors = np.tile(['white', 'red'], 3)\n",
    "agg_data[groupby] = pd.Categorical(agg_data[groupby], categories=['PreShock1', 'Shock1', 'PreShock2', 'Shock2', 'PreShock3', 'Shock3'])\n",
    "\n",
    "visualizations.plotMeanData(agg_data=agg_data, groupby=groupby, plot_var=plot_var, colors=colors, opacity=1,\n",
    "                            y_title='Motion (A.U.)', y_range=(0,4500), plot_width=400, plot_datalines=True, plot_title=fig_panel)"
   ]
  },
  {
   "cell_type": "markdown",
   "metadata": {},
   "source": [
    "### Extended Data 8b - freezing"
   ]
  },
  {
   "cell_type": "code",
   "execution_count": null,
   "metadata": {},
   "outputs": [],
   "source": [
    "fig_panel = 'ExtData8b_freezing'\n",
    "agg_data = pd.read_csv('../ExtendedData8/{}.csv'.format(fig_panel))\n",
    "\n",
    "groupby = 'Time'\n",
    "plot_var = 'Freezing'\n",
    "\n",
    "colors = sample_colorscale(colorscale='Reds', samplepoints=np.linspace(0.3,0.7,len(agg_data[groupby].unique())))\n",
    "agg_data[groupby] = pd.Categorical(agg_data[groupby], categories=['PreShock1', 'PreShock2', 'PreShock3', 'PreShock4',\n",
    "                                                                  'PostShock1_1', 'PostShock1_2', 'PostShock2_1', 'PostShock2_2', 'PostShock3_1'])\n",
    "\n",
    "visualizations.plotMeanData(agg_data=agg_data, groupby=groupby, plot_var=plot_var, colors=colors, opacity=1,\n",
    "                            y_title='% Freezing', y_range=(0,100), plot_width=400, plot_datalines=True, plot_title=fig_panel)"
   ]
  },
  {
   "cell_type": "markdown",
   "metadata": {},
   "source": [
    "### Extended Data 8c - offline1"
   ]
  },
  {
   "cell_type": "code",
   "execution_count": null,
   "metadata": {},
   "outputs": [],
   "source": [
    "fig_panel = 'ExtData8c_offline1'\n",
    "agg_data = pd.read_csv('../ExtendedData8/{}.csv'.format(fig_panel))\n",
    "\n",
    "time_var = 'TimeBin'\n",
    "plot_var = 'Motion'\n",
    "\n",
    "colors = ['slategrey']\n",
    "agg_data[time_var] = pd.Categorical(agg_data[time_var])\n",
    "\n",
    "visualizations.plotAcrossTime(agg_data=agg_data, time_var=time_var, plot_var=plot_var, colors=colors, plot_datalines=False,\n",
    "                              y_title='Moean Distance<br>Traveled', x_title='Time (min)', title=fig_panel, add_hline=False, y_range=(0,3.5))"
   ]
  },
  {
   "cell_type": "markdown",
   "metadata": {},
   "source": [
    "### Extended Data 8c - offline2"
   ]
  },
  {
   "cell_type": "code",
   "execution_count": null,
   "metadata": {},
   "outputs": [],
   "source": [
    "fig_panel = 'ExtData8c_offline2'\n",
    "agg_data = pd.read_csv('../ExtendedData8/{}.csv'.format(fig_panel))\n",
    "\n",
    "time_var = 'TimeBin'\n",
    "plot_var = 'Motion'\n",
    "\n",
    "colors = ['slategrey']\n",
    "agg_data[time_var] = pd.Categorical(agg_data[time_var])\n",
    "\n",
    "visualizations.plotAcrossTime(agg_data=agg_data, time_var=time_var, plot_var=plot_var, colors=colors, plot_datalines=False,\n",
    "                              y_title='Moean Distance<br>Traveled', x_title='Time (min)', title=fig_panel, add_hline=False, y_range=(0,3.5))"
   ]
  },
  {
   "cell_type": "markdown",
   "metadata": {},
   "source": [
    "### Extended Data 8d - aversive"
   ]
  },
  {
   "cell_type": "code",
   "execution_count": null,
   "metadata": {},
   "outputs": [],
   "source": [
    "fig_panel = 'ExtData8d_aversive'\n",
    "agg_data = pd.read_csv('../ExtendedData8/{}.csv'.format(fig_panel))\n",
    "agg_data['Context'] = 'Aversive'\n",
    "\n",
    "groupby = 'Context'\n",
    "plot_var = 'Freezing'\n",
    "\n",
    "colors = ['rgb(236,34,42)']\n",
    "agg_data[groupby] = pd.Categorical(agg_data[groupby])\n",
    "\n",
    "visualizations.plotMeanData(agg_data=agg_data, groupby=groupby, plot_var=plot_var, colors=colors, opacity=1,\n",
    "                            y_title='% Freezing', y_range=(0,100), plot_datapoints=True, plot_title=fig_panel)"
   ]
  },
  {
   "cell_type": "code",
   "execution_count": null,
   "metadata": {},
   "outputs": [],
   "source": [
    "fig_panel = 'ExtData8d_neu_nov'\n",
    "agg_data = pd.read_csv('../ExtendedData8/{}.csv'.format(fig_panel))\n",
    "\n",
    "groupby = 'Context'\n",
    "plot_var = 'Freezing'\n",
    "\n",
    "colors = ['rgb(0,50,255)', 'rgb(74,113,52)']\n",
    "agg_data[groupby] = pd.Categorical(agg_data[groupby])\n",
    "\n",
    "visualizations.plotMeanData(agg_data=agg_data, groupby=groupby, plot_var=plot_var, colors=colors, opacity=1,\n",
    "                            y_title='% Freezing', y_range=(0,100), plot_datalines=True, plot_title=fig_panel)"
   ]
  },
  {
   "cell_type": "markdown",
   "metadata": {},
   "source": [
    "### Extended Data 8e"
   ]
  },
  {
   "cell_type": "code",
   "execution_count": null,
   "metadata": {},
   "outputs": [],
   "source": [
    "fig_panel = 'ExtData8e'\n",
    "agg_data = pd.read_csv('../ExtendedData8/{}.csv'.format(fig_panel))\n",
    "\n",
    "groupby = 'TrueVsShuffle'\n",
    "plot_var = 'Accuracy'\n",
    "\n",
    "colors = ['steelblue', 'slategrey']\n",
    "agg_data[groupby] = pd.Categorical(agg_data[groupby], categories=['True', 'Shuffle'])\n",
    "\n",
    "visualizations.plotMeanData(agg_data=agg_data, groupby=groupby, plot_var=plot_var, colors=colors, opacity=1,\n",
    "                            y_title='Accuracy', y_range=(0,1), plot_datalines=True, plot_title=fig_panel)"
   ]
  },
  {
   "cell_type": "markdown",
   "metadata": {},
   "source": [
    "### Extended Data 8f - independent"
   ]
  },
  {
   "cell_type": "code",
   "execution_count": null,
   "metadata": {},
   "outputs": [],
   "source": [
    "fig_panel = 'ExtData8f_independent'\n",
    "agg_data = pd.read_csv('../ExtendedData8/{}.csv'.format(fig_panel))\n",
    "\n",
    "groupby = 'EnsembleCombo'\n",
    "plot_var = 'Fraction'\n",
    "\n",
    "colors = ['rgb(0,50,255)', 'rgb(236,34,42)', 'rgb(144,96,129)']\n",
    "agg_data[groupby] = pd.Categorical(agg_data[groupby], categories=['Neutral', 'Aversive', 'Overlap'])\n",
    "\n",
    "visualizations.plotMeanData(agg_data=agg_data, groupby=groupby, plot_var=plot_var, colors=colors, opacity=1,\n",
    "                            y_title='Chance<br>Independent Participation', y_range=(0,9), plot_datalines=True, plot_title=fig_panel)"
   ]
  },
  {
   "cell_type": "markdown",
   "metadata": {},
   "source": [
    "### Extended Data 8f - coburst"
   ]
  },
  {
   "cell_type": "code",
   "execution_count": null,
   "metadata": {},
   "outputs": [],
   "source": [
    "fig_panel = 'ExtData8f_coburst'\n",
    "agg_data = pd.read_csv('../ExtendedData8/{}.csv'.format(fig_panel))\n",
    "\n",
    "groupby = 'EnsembleCombo'\n",
    "plot_var = 'Fraction'\n",
    "\n",
    "colors = 'slategrey'\n",
    "agg_data[groupby] = pd.Categorical(agg_data[groupby], categories=['Overlap x Neutral', 'Overlap x Aversive', 'Neutral x Aversive', 'Overlap x Neutral x Aversive'])\n",
    "\n",
    "visualizations.plotMeanData(agg_data=agg_data, groupby=groupby, plot_var=plot_var, colors=colors, opacity=1,\n",
    "                            y_title='Chance<br>Coincident Participation', y_range=(0,0.5), plot_width=500, plot_height=600, plot_datalines=True, plot_title=fig_panel)"
   ]
  },
  {
   "cell_type": "markdown",
   "metadata": {},
   "source": [
    "### Extended Data 8g - independent"
   ]
  },
  {
   "cell_type": "code",
   "execution_count": null,
   "metadata": {},
   "outputs": [],
   "source": [
    "fig_panel = 'ExtData8g_independent'\n",
    "agg_data = pd.read_csv('../ExtendedData8/{}.csv'.format(fig_panel))\n",
    "\n",
    "groupby = 'EnsembleCombo'\n",
    "plot_var = 'Fraction'\n",
    "\n",
    "colors = ['rgb(0,50,255)', 'rgb(236,34,42)', 'rgb(144,96,129)']\n",
    "agg_data[groupby] = pd.Categorical(agg_data[groupby], categories=['Neutral', 'Aversive', 'Overlap'])\n",
    "\n",
    "visualizations.plotMeanData(agg_data=agg_data, groupby=groupby, plot_var=plot_var, colors=colors, opacity=1,\n",
    "                            y_title='Chance-Corrected<br>Independent Participation', y_range=(0,9), plot_datalines=True, plot_title=fig_panel)"
   ]
  },
  {
   "cell_type": "markdown",
   "metadata": {},
   "source": [
    "### Extended Data 8g - coburst"
   ]
  },
  {
   "cell_type": "code",
   "execution_count": null,
   "metadata": {},
   "outputs": [],
   "source": [
    "fig_panel = 'ExtData8g_coburst'\n",
    "agg_data = pd.read_csv('../ExtendedData8/{}.csv'.format(fig_panel))\n",
    "\n",
    "groupby = 'EnsembleCombo'\n",
    "plot_var = 'Fraction'\n",
    "\n",
    "colors = 'slategrey'\n",
    "agg_data[groupby] = pd.Categorical(agg_data[groupby], categories=['Overlap x Neutral', 'Overlap x Aversive', 'Neutral x Aversive', 'Overlap x Neutral x Aversive'])\n",
    "\n",
    "visualizations.plotMeanData(agg_data=agg_data, groupby=groupby, plot_var=plot_var, colors=colors, opacity=1,\n",
    "                            y_title='Chance-Corrected<br>Coincident Participation', y_range=(0,3500), plot_width=500, plot_height=600, plot_datalines=True, plot_title=fig_panel)"
   ]
  },
  {
   "cell_type": "code",
   "execution_count": null,
   "metadata": {},
   "outputs": [],
   "source": []
  }
 ],
 "metadata": {
  "kernelspec": {
   "display_name": "calcium",
   "language": "python",
   "name": "python3"
  },
  "language_info": {
   "codemirror_mode": {
    "name": "ipython",
    "version": 3
   },
   "file_extension": ".py",
   "mimetype": "text/x-python",
   "name": "python",
   "nbconvert_exporter": "python",
   "pygments_lexer": "ipython3",
   "version": "3.8.12"
  }
 },
 "nbformat": 4,
 "nbformat_minor": 2
}
