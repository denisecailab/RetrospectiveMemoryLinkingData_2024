{
 "cells": [
  {
   "cell_type": "code",
   "execution_count": 1,
   "metadata": {},
   "outputs": [],
   "source": [
    "import pandas as pd\n",
    "import visualizations"
   ]
  },
  {
   "cell_type": "markdown",
   "metadata": {},
   "source": [
    "### Fig 5c - Wake"
   ]
  },
  {
   "cell_type": "code",
   "execution_count": null,
   "metadata": {},
   "outputs": [],
   "source": [
    "fig_panel = 'Fig_5c'\n",
    "sleep_state = 'wake'\n",
    "agg_data = pd.read_csv('../Figure5/{}.csv'.format(fig_panel))\n",
    "agg_data = agg_data[agg_data['SleepState'] == sleep_state]\n",
    "groupby = 'EnsembleCombo'\n",
    "separateby = 'Amplitude'\n",
    "plot_var = 'Fraction'\n",
    "\n",
    "colors = ['rgb(255,50,0)', 'rgb(0,50,255)', 'rgb(144,96,129)']\n",
    "agg_data[groupby] = pd.Categorical(agg_data[groupby])\n",
    "agg_data[separateby] = pd.Categorical(agg_data[separateby], categories=['LowShock', 'HighShock'])\n",
    "\n",
    "visualizations.plotAcrossGroups(agg_data=agg_data, groupby=groupby, separateby=separateby, plot_var=plot_var, plot_width=400,\n",
    "                                colors=colors, opacity=1, y_title='Co-Participation (%)', y_range=(0,40), plot_datalines=True, plot_title=fig_panel + ' {}'.format(sleep_state))"
   ]
  },
  {
   "cell_type": "markdown",
   "metadata": {},
   "source": [
    "### Fig 5c - NREM"
   ]
  },
  {
   "cell_type": "code",
   "execution_count": null,
   "metadata": {},
   "outputs": [],
   "source": [
    "fig_panel = 'Fig_5c'\n",
    "sleep_state = 'nrem'\n",
    "agg_data = pd.read_csv('../Figure5/{}.csv'.format(fig_panel))\n",
    "agg_data = agg_data[agg_data['SleepState'] == sleep_state]\n",
    "groupby = 'EnsembleCombo'\n",
    "separateby = 'Amplitude'\n",
    "plot_var = 'Fraction'\n",
    "\n",
    "colors = ['rgb(255,50,0)', 'rgb(0,50,255)', 'rgb(144,96,129)']\n",
    "agg_data[groupby] = pd.Categorical(agg_data[groupby])\n",
    "agg_data[separateby] = pd.Categorical(agg_data[separateby], categories=['LowShock', 'HighShock'])\n",
    "\n",
    "visualizations.plotAcrossGroups(agg_data=agg_data, groupby=groupby, separateby=separateby, plot_var=plot_var, plot_width=400,\n",
    "                                colors=colors, opacity=1, y_title='Co-Participation (%)', y_range=(0,40), plot_datalines=True, plot_title=fig_panel + ' {}'.format(sleep_state))"
   ]
  },
  {
   "cell_type": "markdown",
   "metadata": {},
   "source": [
    "### Fig 5c - REM"
   ]
  },
  {
   "cell_type": "code",
   "execution_count": null,
   "metadata": {},
   "outputs": [],
   "source": [
    "fig_panel = 'Fig_5c'\n",
    "sleep_state = 'rem'\n",
    "agg_data = pd.read_csv('../Figure5/{}.csv'.format(fig_panel))\n",
    "agg_data = agg_data[agg_data['SleepState'] == sleep_state]\n",
    "groupby = 'EnsembleCombo'\n",
    "separateby = 'Amplitude'\n",
    "plot_var = 'Fraction'\n",
    "\n",
    "colors = ['rgb(255,50,0)', 'rgb(0,50,255)', 'rgb(144,96,129)']\n",
    "agg_data[groupby] = pd.Categorical(agg_data[groupby])\n",
    "agg_data[separateby] = pd.Categorical(agg_data[separateby], categories=['LowShock', 'HighShock'])\n",
    "\n",
    "visualizations.plotAcrossGroups(agg_data=agg_data, groupby=groupby, separateby=separateby, plot_var=plot_var, plot_width=400,\n",
    "                                colors=colors, opacity=1, y_title='Co-Participation (%)', y_range=(0,40), plot_datalines=True, plot_title=fig_panel + ' {}'.format(sleep_state))"
   ]
  },
  {
   "cell_type": "code",
   "execution_count": null,
   "metadata": {},
   "outputs": [],
   "source": []
  }
 ],
 "metadata": {
  "kernelspec": {
   "display_name": "calcium",
   "language": "python",
   "name": "python3"
  },
  "language_info": {
   "codemirror_mode": {
    "name": "ipython",
    "version": 3
   },
   "file_extension": ".py",
   "mimetype": "text/x-python",
   "name": "python",
   "nbconvert_exporter": "python",
   "pygments_lexer": "ipython3",
   "version": "3.8.12"
  }
 },
 "nbformat": 4,
 "nbformat_minor": 2
}
