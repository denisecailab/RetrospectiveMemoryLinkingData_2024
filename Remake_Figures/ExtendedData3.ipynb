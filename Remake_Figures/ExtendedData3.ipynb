{
 "cells": [
  {
   "cell_type": "code",
   "execution_count": 1,
   "metadata": {},
   "outputs": [],
   "source": [
    "import numpy as np\n",
    "import pandas as pd\n",
    "import visualizations\n",
    "import plotly.graph_objects as go\n",
    "from plotly.colors import sample_colorscale"
   ]
  },
  {
   "cell_type": "markdown",
   "metadata": {},
   "source": [
    "### Extended Data 3c - freezing"
   ]
  },
  {
   "cell_type": "code",
   "execution_count": null,
   "metadata": {},
   "outputs": [],
   "source": [
    "fig_panel = 'ExtData3c_freezing'\n",
    "agg_data = pd.read_csv('../ExtendedData3/{}.csv'.format(fig_panel))\n",
    "\n",
    "groupby = 'Time'\n",
    "plot_var = 'Freezing'\n",
    "\n",
    "colors = sample_colorscale(colorscale='Reds', samplepoints=np.linspace(0.3,0.7,len(agg_data[groupby].unique())))\n",
    "agg_data[groupby] = pd.Categorical(agg_data[groupby], categories=['PreShock1', 'PreShock2', 'PreShock3', 'PreShock4',\n",
    "                                                                  'PostShock1_1', 'PostShock1_2', 'PostShock2_1', 'PostShock2_2', 'PostShock3_1'])\n",
    "\n",
    "visualizations.plotMeanData(agg_data=agg_data, groupby=groupby, plot_var=plot_var, colors=colors, opacity=1,\n",
    "                            y_title='% Freezing', y_range=(0,90), plot_width=600, plot_datalines=True, plot_title=fig_panel)"
   ]
  },
  {
   "cell_type": "markdown",
   "metadata": {},
   "source": [
    "### Extended Data 3c - shock reactivity"
   ]
  },
  {
   "cell_type": "code",
   "execution_count": null,
   "metadata": {},
   "outputs": [],
   "source": [
    "fig_panel = 'ExtData3c_motion'\n",
    "agg_data = pd.read_csv('../ExtendedData3/{}.csv'.format(fig_panel))\n",
    "\n",
    "groupby = 'Time'\n",
    "plot_var = 'Motion'\n",
    "\n",
    "colors = np.tile(['white', 'red'], 3)\n",
    "agg_data[groupby] = pd.Categorical(agg_data[groupby], categories=['PreShock1', 'Shock1', 'PreShock2', 'Shock2', 'PreShock3', 'Shock3'])\n",
    "\n",
    "visualizations.plotMeanData(agg_data=agg_data, groupby=groupby, plot_var=plot_var, colors=colors, opacity=1,\n",
    "                            y_title='Motion (A.U.)', y_range=(0,4500), plot_width=600, plot_datalines=True, plot_title=fig_panel)"
   ]
  },
  {
   "cell_type": "markdown",
   "metadata": {},
   "source": [
    "### Extended Data 3d"
   ]
  },
  {
   "cell_type": "code",
   "execution_count": null,
   "metadata": {},
   "outputs": [],
   "source": [
    "fig_panel = 'ExtData3d'\n",
    "agg_data = pd.read_csv('../ExtendedData3/{}.csv'.format(fig_panel))\n",
    "\n",
    "time_var = 'TimeBin'\n",
    "plot_var = 'Motion'\n",
    "\n",
    "colors = ['slategrey']\n",
    "agg_data[time_var] = pd.Categorical(agg_data[time_var])\n",
    "\n",
    "visualizations.plotAcrossTime(agg_data=agg_data, time_var=time_var, plot_var=plot_var, colors=colors, plot_datalines=False,\n",
    "                              y_title='Moean Distance<br>Traveled', x_title='Time (min)', title=fig_panel, add_hline=False, y_range=(0,3))"
   ]
  },
  {
   "cell_type": "markdown",
   "metadata": {},
   "source": [
    "### Extended Data 3e"
   ]
  },
  {
   "cell_type": "code",
   "execution_count": null,
   "metadata": {},
   "outputs": [],
   "source": [
    "fig_panel = 'ExtData3e'\n",
    "agg_data = pd.read_csv('../ExtendedData3/{}.csv'.format(fig_panel))\n",
    "\n",
    "groupby = 'Context'\n",
    "plot_var = 'Freezing'\n",
    "\n",
    "colors = ['rgb(236,34,42)', 'rgb(74,113,52)']\n",
    "agg_data[groupby] = pd.Categorical(agg_data[groupby])\n",
    "\n",
    "visualizations.plotMeanData(agg_data=agg_data, groupby=groupby, plot_var=plot_var, colors=colors, opacity=1,\n",
    "                            y_title='% Freezing', y_range=(0,100), plot_datalines=True, plot_title=fig_panel)"
   ]
  },
  {
   "cell_type": "markdown",
   "metadata": {},
   "source": [
    "### Extended Data 3f"
   ]
  },
  {
   "cell_type": "code",
   "execution_count": null,
   "metadata": {},
   "outputs": [],
   "source": [
    "fig_panel = 'ExtData3f'\n",
    "agg_data = pd.read_csv('../ExtendedData3/{}.csv'.format(fig_panel))\n",
    "\n",
    "groupby = 'Ensemble'\n",
    "plot_var = 'FractionReactivated'\n",
    "\n",
    "colors = ['rgb(236,34,42)', 'lightgrey']\n",
    "agg_data[groupby] = pd.Categorical(agg_data[groupby], categories=['OfflineReactivated', 'NotReactivated'])\n",
    "\n",
    "visualizations.plotMeanData(agg_data=agg_data, groupby=groupby, plot_var=plot_var, colors=colors, opacity=1,\n",
    "                            y_title='% Cells Reactivated<br>During Aversive Recall', y_range=(0,100), plot_datalines=True, plot_title=fig_panel)"
   ]
  },
  {
   "cell_type": "markdown",
   "metadata": {},
   "source": [
    "### Extended Data 3g"
   ]
  },
  {
   "cell_type": "code",
   "execution_count": null,
   "metadata": {},
   "outputs": [],
   "source": [
    "fig_panel = 'ExtData3g'\n",
    "agg_data = pd.read_csv('../ExtendedData3/{}.csv'.format(fig_panel))\n",
    "\n",
    "groupby = 'RecallSession'\n",
    "plot_var = 'FractionReactivated'\n",
    "\n",
    "colors = ['rgb(236,34,42)', 'rgb(74,113,52)']\n",
    "agg_data[groupby] = pd.Categorical(agg_data[groupby])\n",
    "\n",
    "visualizations.plotMeanData(agg_data=agg_data, groupby=groupby, plot_var=plot_var, colors=colors, opacity=1,\n",
    "                            y_title='% Recall Cells Active<br>During Aversive Learning', y_range=(0,70), plot_datalines=True, plot_title=fig_panel)"
   ]
  },
  {
   "cell_type": "markdown",
   "metadata": {},
   "source": [
    "### Extended Data 3h - pie"
   ]
  },
  {
   "cell_type": "code",
   "execution_count": null,
   "metadata": {},
   "outputs": [],
   "source": [
    "fig_panel = 'ExtData3h_pie'\n",
    "agg_data = pd.read_csv('../ExtendedData3/{}.csv'.format(fig_panel))\n",
    "\n",
    "groupby = 'Ensemble'\n",
    "plot_var = 'CellProportion'\n",
    "\n",
    "colors = ['rgb(236,34,42)', 'white']\n",
    "agg_data[groupby] = pd.Categorical(agg_data[groupby])\n",
    "\n",
    "visualizations.plotMeanData(agg_data=agg_data, groupby=groupby, plot_var=plot_var, colors=colors, opacity=1,\n",
    "                            y_title='Percent of Population', y_range=(0,100), plot_datalines=True, plot_title=fig_panel)"
   ]
  },
  {
   "cell_type": "markdown",
   "metadata": {},
   "source": [
    "### Extended Data 3h - line"
   ]
  },
  {
   "cell_type": "code",
   "execution_count": null,
   "metadata": {},
   "outputs": [],
   "source": [
    "fig_panel = 'ExtData3h_line'\n",
    "agg_data = pd.read_csv('../ExtendedData3/{}.csv'.format(fig_panel))\n",
    "agg_data['TimeBin'] = agg_data['TimeBin'] * 10 # conver to min\n",
    "\n",
    "time_var = 'TimeBin'\n",
    "groupby = 'Ensemble'\n",
    "plot_var = 'Activity'\n",
    "\n",
    "colors = ['rgb(236,34,42)', 'slategrey']\n",
    "agg_data[time_var] = pd.Categorical(agg_data[time_var])\n",
    "agg_data[groupby] = pd.Categorical(agg_data[groupby])\n",
    "\n",
    "visualizations.plotAcrossTime(agg_data=agg_data, time_var=time_var, groupby=groupby, plot_var=plot_var, colors=colors, plot_datalines=False, add_hline=False,\n",
    "                              y_title='Calcium Event Rate<br>(Z-Scored)', x_title='Time (min)', title=fig_panel)"
   ]
  },
  {
   "cell_type": "markdown",
   "metadata": {},
   "source": [
    "### Extended Data 3h - bar"
   ]
  },
  {
   "cell_type": "code",
   "execution_count": null,
   "metadata": {},
   "outputs": [],
   "source": [
    "fig_panel = 'ExtData3h_bar'\n",
    "agg_data = pd.read_csv('../ExtendedData3/{}.csv'.format(fig_panel))\n",
    "\n",
    "groupby = 'Ensemble'\n",
    "plot_var = 'Activity'\n",
    "\n",
    "colors = ['rgb(236,34,42)', 'white']\n",
    "agg_data[groupby] = pd.Categorical(agg_data[groupby])\n",
    "\n",
    "visualizations.plotMeanData(agg_data=agg_data, groupby=groupby, plot_var=plot_var, colors=colors, opacity=1,\n",
    "                            y_title='Calcium Event Rate<br>(Z-Scored)', y_range=(-0.025,0.035), plot_datalines=True, plot_title=fig_panel)"
   ]
  },
  {
   "cell_type": "markdown",
   "metadata": {},
   "source": [
    "### Extended Data 3i - scatter"
   ]
  },
  {
   "cell_type": "code",
   "execution_count": null,
   "metadata": {},
   "outputs": [],
   "source": [
    "fig_panel = 'ExtData3i_scatter'\n",
    "agg_data = pd.read_csv('../ExtendedData3/{}.csv'.format(fig_panel))\n",
    "\n",
    "locomotion_activity = agg_data[agg_data['BehavioralState'] == 'Locomotion'].sort_values('CellIndex')\n",
    "quiet_rest_activity = agg_data[agg_data['BehavioralState'] == 'Quiet Rest'].sort_values('CellIndex')\n",
    "\n",
    "visualizations.plotCorrelation_multifit(data_x=locomotion_activity['FiringRate'].values, data_y=quiet_rest_activity['FiringRate'].values,\n",
    "                                        x_title='Activity During Locomotion', y_title='Activity During Quiet Rest', groups=locomotion_activity['Ensemble'], title=fig_panel, point_opacity=0.7,\n",
    "                                        colors=['red' if group == 'Aversive' else 'white' if group=='Remaining' else Exception('Invalid Group.') for group in locomotion_activity['Ensemble']])"
   ]
  },
  {
   "cell_type": "markdown",
   "metadata": {},
   "source": [
    "### Extended Data 3i - bar"
   ]
  },
  {
   "cell_type": "code",
   "execution_count": null,
   "metadata": {},
   "outputs": [],
   "source": [
    "fig_panel = 'ExtData3i_bar'\n",
    "agg_data = pd.read_csv('../ExtendedData3/{}.csv'.format(fig_panel))\n",
    "\n",
    "groupby = 'Ensemble'\n",
    "plot_var = 'Slope'\n",
    "\n",
    "colors = ['rgb(236,34,42)', 'white']\n",
    "agg_data[groupby] = pd.Categorical(agg_data[groupby])\n",
    "\n",
    "visualizations.plotMeanData(agg_data=agg_data, groupby=groupby, plot_var=plot_var, colors=colors, opacity=1,\n",
    "                            y_title='Slope of Regression', y_range=(0,1.5), plot_datalines=True, plot_title=fig_panel)"
   ]
  },
  {
   "cell_type": "markdown",
   "metadata": {},
   "source": [
    "### Extended Data 3j - scatter"
   ]
  },
  {
   "cell_type": "code",
   "execution_count": null,
   "metadata": {},
   "outputs": [],
   "source": [
    "fig_panel = 'ExtData3j_scatter'\n",
    "agg_data = pd.read_csv('../ExtendedData3/{}.csv'.format(fig_panel))\n",
    "\n",
    "visualizations.plotCorrelation(data_x=agg_data['EncodingActivity'], data_y=agg_data['OfflineActivity'],\n",
    "                               x_title='Cell Activity During<br>Aversive Encoding', y_title='Cell Activity<br>During Offline', title=fig_panel, colors='slategrey', point_opacity=0.4)"
   ]
  },
  {
   "cell_type": "markdown",
   "metadata": {},
   "source": [
    "### Extended Data 3j - line"
   ]
  },
  {
   "cell_type": "code",
   "execution_count": null,
   "metadata": {},
   "outputs": [],
   "source": [
    "fig_panel = 'ExtData3j_line'\n",
    "agg_data = pd.read_csv('../ExtendedData3/{}.csv'.format(fig_panel))\n",
    "\n",
    "time_var = 'EncodingActivityBin'\n",
    "plot_var = 'FractionReactivated'\n",
    "\n",
    "colors = ['black']\n",
    "agg_data[time_var] = pd.Categorical(agg_data[time_var])\n",
    "\n",
    "visualizations.plotAcrossTime(agg_data=agg_data, time_var=time_var, plot_var=plot_var, colors=colors, plot_datalines=True, add_hline=False,\n",
    "                              y_title='% of Cells<br>Reactivated Offline', x_title='Percentile of Aversive<br>Learning Activity', title=fig_panel)"
   ]
  },
  {
   "cell_type": "markdown",
   "metadata": {},
   "source": [
    "### Extended Data 3k - pie"
   ]
  },
  {
   "cell_type": "code",
   "execution_count": null,
   "metadata": {},
   "outputs": [],
   "source": [
    "fig_panel = 'ExtData3k_pie'\n",
    "agg_data = pd.read_csv('../ExtendedData3/{}.csv'.format(fig_panel))\n",
    "\n",
    "groupby = 'Ensemble'\n",
    "plot_var = 'CellProportion'\n",
    "\n",
    "colors = ['rgb(236,34,42)', 'rgb(74,113,52)', 'purple', 'white']\n",
    "agg_data[groupby] = pd.Categorical(agg_data[groupby])\n",
    "\n",
    "visualizations.plotMeanData(agg_data=agg_data, groupby=groupby, plot_var=plot_var, colors=colors, opacity=1,\n",
    "                            y_title='Percent of Population', y_range=(0,100), plot_datalines=True, plot_title=fig_panel)"
   ]
  },
  {
   "cell_type": "markdown",
   "metadata": {},
   "source": [
    "### Extended Data 3k - line"
   ]
  },
  {
   "cell_type": "code",
   "execution_count": null,
   "metadata": {},
   "outputs": [],
   "source": [
    "fig_panel = 'ExtData3k_line'\n",
    "agg_data = pd.read_csv('../ExtendedData3/{}.csv'.format(fig_panel))\n",
    "agg_data['TimeBin'] = agg_data['TimeBin'] * 10 # convert to min\n",
    "\n",
    "time_var = 'TimeBin'\n",
    "groupby = 'Ensemble'\n",
    "plot_var = 'Activity'\n",
    "\n",
    "colors = ['rgb(236,34,42)', 'rgb(74,113,52)', 'purple', 'slategrey']\n",
    "agg_data[time_var] = pd.Categorical(agg_data[time_var])\n",
    "agg_data[groupby] = pd.Categorical(agg_data[groupby])\n",
    "\n",
    "visualizations.plotAcrossTime(agg_data=agg_data, time_var=time_var, groupby=groupby, plot_var=plot_var, colors=colors, plot_datalines=False, add_hline=False,\n",
    "                              y_title='Calcium Event Rate<br>(Z-Scored)', x_title='Time (min)', title=fig_panel)"
   ]
  },
  {
   "cell_type": "markdown",
   "metadata": {},
   "source": [
    "### Extended Data 3k - bar"
   ]
  },
  {
   "cell_type": "code",
   "execution_count": null,
   "metadata": {},
   "outputs": [],
   "source": [
    "fig_panel = 'ExtData3k_bar'\n",
    "agg_data = pd.read_csv('../ExtendedData3/{}.csv'.format(fig_panel))\n",
    "\n",
    "groupby = 'Ensemble'\n",
    "plot_var = 'Activity'\n",
    "\n",
    "colors = ['rgb(236,34,42)', 'rgb(74,113,52)', 'purple', 'white']\n",
    "agg_data[groupby] = pd.Categorical(agg_data[groupby])\n",
    "\n",
    "visualizations.plotMeanData(agg_data=agg_data, groupby=groupby, plot_var=plot_var, colors=colors, opacity=1, plot_width=500,\n",
    "                            y_title='Calcium Event Rate<br>(Z-Scored)', y_range=(-0.025,0.07), plot_datalines=True, plot_title=fig_panel)"
   ]
  },
  {
   "cell_type": "markdown",
   "metadata": {},
   "source": [
    "### Extended Data 3m"
   ]
  },
  {
   "cell_type": "code",
   "execution_count": null,
   "metadata": {},
   "outputs": [],
   "source": [
    "fig_panel = 'ExtData3m'\n",
    "agg_data = pd.read_csv('../ExtendedData3/{}.csv'.format(fig_panel))\n",
    "\n",
    "groupby = 'Group'\n",
    "plot_var = 'Freq'\n",
    "\n",
    "colors = ['steelblue', 'white']\n",
    "agg_data[groupby] = pd.Categorical(agg_data[groupby], categories=['True', 'Shuffle'])\n",
    "\n",
    "visualizations.plotMeanData(agg_data=agg_data, groupby=groupby, plot_var=plot_var, colors=colors, opacity=1,\n",
    "                            y_title='Burst Frequency', y_range=(0,5.5), plot_datalines=True, plot_title=fig_panel)"
   ]
  },
  {
   "cell_type": "markdown",
   "metadata": {},
   "source": [
    "### Extended Data 3o"
   ]
  },
  {
   "cell_type": "code",
   "execution_count": null,
   "metadata": {},
   "outputs": [],
   "source": [
    "fig_panel = 'ExtData3o'\n",
    "agg_data = pd.read_csv('../ExtendedData3/{}.csv'.format(fig_panel))\n",
    "\n",
    "groupby = 'Group'\n",
    "plot_var = 'Skew'\n",
    "\n",
    "colors = ['steelblue', 'white']\n",
    "agg_data[groupby] = pd.Categorical(agg_data[groupby], categories=['True', 'Shuffle'])\n",
    "\n",
    "visualizations.plotMeanData(agg_data=agg_data, groupby=groupby, plot_var=plot_var, colors=colors, opacity=1,\n",
    "                            y_title='Skew', y_range=(0,3.5), plot_datalines=True, plot_title=fig_panel)"
   ]
  },
  {
   "cell_type": "markdown",
   "metadata": {},
   "source": [
    "### Extended Data 3q"
   ]
  },
  {
   "cell_type": "code",
   "execution_count": null,
   "metadata": {},
   "outputs": [],
   "source": [
    "fig_panel = 'ExtData3q'\n",
    "agg_data = pd.read_csv('../ExtendedData3/{}.csv'.format(fig_panel))\n",
    "\n",
    "mean_data = agg_data.groupby(['Time']).mean().reset_index().sort_values('Time')\n",
    "time = mean_data['Time']\n",
    "mean = mean_data['AverageActivity']\n",
    "sem  = agg_data.groupby(['Time']).sem().reset_index().sort_values('Time')['AverageActivity'].values\n",
    "\n",
    "fig = go.Figure()\n",
    "\n",
    "for mouse in agg_data['Mouse'].unique():\n",
    "    mouse_data = agg_data[agg_data['Mouse'] == mouse].sort_values('Time')\n",
    "    fig.add_trace(go.Scattergl(x=mouse_data['Time'], y=mouse_data['AverageActivity'], mode='lines', line=dict(color='slategrey', width=1), showlegend=False))\n",
    "\n",
    "fig.add_trace(go.Scatter(x=time, y=(mean + sem),\n",
    "                            mode='lines', fill=None, line=dict(color='black', width=0), hoverinfo='skip', showlegend=False))\n",
    "fig.add_trace(go.Scatter(x=time, y=(mean - sem),\n",
    "                            mode='lines', fill='tonexty', line=dict(color='black', width=0), hoverinfo='skip', showlegend=False))\n",
    "fig.add_trace(go.Scattergl(x=time, y=mean, mode='lines', line=dict(color='black', width=2), showlegend=False))\n",
    "\n",
    "fig.update_layout(template='simple_white', width=500, height=500, font=dict(size=20, family='Arial'), title_text=fig_panel,\n",
    "                  xaxis_title='Time (sec)', yaxis_title='Mean Population Activity<br>Around Bursts (Z-Score)')\n",
    "fig.show()"
   ]
  },
  {
   "cell_type": "markdown",
   "metadata": {},
   "source": [
    "### Extended Data 3r"
   ]
  },
  {
   "cell_type": "code",
   "execution_count": null,
   "metadata": {},
   "outputs": [],
   "source": [
    "fig_panel = 'ExtData3r'\n",
    "agg_data = pd.read_csv('../ExtendedData3/{}.csv'.format(fig_panel))\n",
    "agg_data['Bin'] = agg_data['Bin'] / 60 # convert to minutes\n",
    "\n",
    "time_var = 'Bin'\n",
    "plot_var = 'EventFrequency'\n",
    "\n",
    "colors = ['black']\n",
    "agg_data[time_var] = pd.Categorical(agg_data[time_var])\n",
    "\n",
    "visualizations.plotAcrossTime(agg_data=agg_data, time_var=time_var, plot_var=plot_var, colors=colors, add_hline=False,\n",
    "                              y_title='Event Frequency', x_title='Time (min)', plot_datalines=True, title=fig_panel)"
   ]
  },
  {
   "cell_type": "markdown",
   "metadata": {},
   "source": [
    "### Extended Data 3s"
   ]
  },
  {
   "cell_type": "code",
   "execution_count": null,
   "metadata": {},
   "outputs": [],
   "source": [
    "fig_panel = 'ExtData3s'\n",
    "agg_data = pd.read_csv('../ExtendedData3/{}.csv'.format(fig_panel))\n",
    "\n",
    "groupby = 'Ensemble'\n",
    "plot_var = 'BurstParticipation'\n",
    "\n",
    "colors = ['rgb(236,34,42)', 'white']\n",
    "agg_data[groupby] = pd.Categorical(agg_data[groupby])\n",
    "\n",
    "visualizations.plotMeanData(agg_data=agg_data, groupby=groupby, plot_var=plot_var, colors=colors, opacity=1,\n",
    "                            y_title='% of Ensemble<br>Participation in Bursts', y_range=(0,4.5), plot_datalines=True, plot_title=fig_panel)"
   ]
  },
  {
   "cell_type": "markdown",
   "metadata": {},
   "source": [
    "### Extended Data 3t"
   ]
  },
  {
   "cell_type": "code",
   "execution_count": null,
   "metadata": {},
   "outputs": [],
   "source": [
    "fig_panel = 'ExtData3t'\n",
    "agg_data = pd.read_csv('../ExtendedData3/{}.csv'.format(fig_panel))\n",
    "\n",
    "time_var = 'BurstThreshold'\n",
    "plot_var = 'ParticipationRatio'\n",
    "\n",
    "colors = ['black']\n",
    "agg_data[time_var] = pd.Categorical(agg_data[time_var])\n",
    "\n",
    "visualizations.plotAcrossTime(agg_data=agg_data, time_var=time_var, plot_var=plot_var, colors=colors, plot_datalines=True, add_hline=False,\n",
    "                              y_title='Aversive / Remaining<br>Ensemble Participation', x_title='Reactivation<br>Threshold (Z)', title=fig_panel)"
   ]
  },
  {
   "cell_type": "markdown",
   "metadata": {},
   "source": [
    "### Extended Data 3u"
   ]
  },
  {
   "cell_type": "code",
   "execution_count": null,
   "metadata": {},
   "outputs": [],
   "source": [
    "fig_panel = 'ExtData3u'\n",
    "agg_data = pd.read_csv('../ExtendedData3/{}.csv'.format(fig_panel))\n",
    "\n",
    "time_var = 'BinSize'\n",
    "plot_var = 'ParticipationRatio'\n",
    "\n",
    "colors = ['black']\n",
    "agg_data[time_var] = pd.Categorical(agg_data[time_var])\n",
    "\n",
    "visualizations.plotAcrossTime(agg_data=agg_data, time_var=time_var, plot_var=plot_var, colors=colors, plot_datalines=True, add_hline=False,\n",
    "                              y_title='Aversive / Remaining<br>Ensemble Participation', x_title='Bin Size (sec)', title=fig_panel)"
   ]
  },
  {
   "cell_type": "code",
   "execution_count": null,
   "metadata": {},
   "outputs": [],
   "source": []
  }
 ],
 "metadata": {
  "kernelspec": {
   "display_name": "calcium",
   "language": "python",
   "name": "python3"
  },
  "language_info": {
   "codemirror_mode": {
    "name": "ipython",
    "version": 3
   },
   "file_extension": ".py",
   "mimetype": "text/x-python",
   "name": "python",
   "nbconvert_exporter": "python",
   "pygments_lexer": "ipython3",
   "version": "3.8.12"
  }
 },
 "nbformat": 4,
 "nbformat_minor": 2
}
