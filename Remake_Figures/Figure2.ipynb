{
 "cells": [
  {
   "cell_type": "code",
   "execution_count": null,
   "metadata": {},
   "outputs": [],
   "source": [
    "import numpy as np\n",
    "import pandas as pd\n",
    "import plotly.graph_objects as go\n",
    "import visualizations"
   ]
  },
  {
   "cell_type": "markdown",
   "metadata": {},
   "source": [
    "### Fig 2d"
   ]
  },
  {
   "cell_type": "code",
   "execution_count": null,
   "metadata": {},
   "outputs": [],
   "source": [
    "fig_panel = 'Fig_2d_matrix'\n",
    "agg_data = pd.read_csv('../Figure2/{}.csv'.format(fig_panel), header=None)\n",
    "\n",
    "sampling_rate = 1/30\n",
    "time_around_peak = 5 # in sec\n",
    "time_around_peak = int(time_around_peak/sampling_rate)\n",
    "time = np.arange(-time_around_peak*sampling_rate, time_around_peak*sampling_rate, sampling_rate)\n",
    "\n",
    "visualizations.plotRasterAndTimeHistogram(agg_data.values, time, title=fig_panel, plot_width=400,\n",
    "                                          raster_y_title='Burst<br>Events', histogram_y_title='Mean Locomotion<br>around bursts')"
   ]
  },
  {
   "cell_type": "markdown",
   "metadata": {},
   "source": [
    "### Fig 2e"
   ]
  },
  {
   "cell_type": "code",
   "execution_count": null,
   "metadata": {},
   "outputs": [],
   "source": [
    "fig_panel = 'Fig_2e'\n",
    "agg_data = pd.read_csv('../Figure2/{}.csv'.format(fig_panel))\n",
    "\n",
    "mean_data = agg_data.groupby(['Time']).mean().reset_index().sort_values('Time')\n",
    "time = mean_data['Time']\n",
    "mean = mean_data['AverageLocomotion']\n",
    "sem  = agg_data.groupby(['Time']).sem().reset_index().sort_values('Time')['AverageLocomotion'].values\n",
    "\n",
    "fig = go.Figure()\n",
    "\n",
    "for mouse in agg_data['Mouse'].unique():\n",
    "    mouse_data = agg_data[agg_data['Mouse'] == mouse].sort_values('Time')\n",
    "    fig.add_trace(go.Scattergl(x=mouse_data['Time'], y=mouse_data['AverageLocomotion'], mode='lines', line=dict(color='slategrey', width=1), showlegend=False))\n",
    "\n",
    "fig.add_trace(go.Scatter(x=time, y=(mean + sem),\n",
    "                            mode='lines', fill=None, line=dict(color='black', width=0), hoverinfo='skip', showlegend=False))\n",
    "fig.add_trace(go.Scatter(x=time, y=(mean - sem),\n",
    "                            mode='lines', fill='tonexty', line=dict(color='black', width=0), hoverinfo='skip', showlegend=False))\n",
    "fig.add_trace(go.Scattergl(x=time, y=mean, mode='lines', line=dict(color='black', width=2), showlegend=False))\n",
    "\n",
    "fig.update_layout(template='simple_white', width=400, height=600, font=dict(size=20, family='Arial'), title_text=fig_panel,\n",
    "                  xaxis_title='Time (sec)', yaxis_title='Mean Locomotion<br>Around Bursts (A.U.)')\n",
    "fig.show()"
   ]
  },
  {
   "cell_type": "code",
   "execution_count": null,
   "metadata": {},
   "outputs": [],
   "source": []
  }
 ],
 "metadata": {
  "kernelspec": {
   "display_name": "calcium",
   "language": "python",
   "name": "python3"
  },
  "language_info": {
   "codemirror_mode": {
    "name": "ipython",
    "version": 3
   },
   "file_extension": ".py",
   "mimetype": "text/x-python",
   "name": "python",
   "nbconvert_exporter": "python",
   "pygments_lexer": "ipython3",
   "version": "3.8.12"
  }
 },
 "nbformat": 4,
 "nbformat_minor": 2
}
