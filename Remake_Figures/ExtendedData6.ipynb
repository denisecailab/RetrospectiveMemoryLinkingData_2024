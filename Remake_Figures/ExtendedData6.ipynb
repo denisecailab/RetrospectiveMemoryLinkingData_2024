{
 "cells": [
  {
   "cell_type": "code",
   "execution_count": 1,
   "metadata": {},
   "outputs": [],
   "source": [
    "import pandas as pd\n",
    "import visualizations\n",
    "import plotly.graph_objects as go"
   ]
  },
  {
   "cell_type": "markdown",
   "metadata": {},
   "source": [
    "### Extended Data 6b"
   ]
  },
  {
   "cell_type": "code",
   "execution_count": null,
   "metadata": {},
   "outputs": [],
   "source": [
    "fig_panel = 'ExtData6b'\n",
    "agg_data = pd.read_csv('../ExtendedData6/{}.csv'.format(fig_panel))\n",
    "agg_data = agg_data[agg_data['CutoffFraction'] == 10] # use the 10% of cells cutoff\n",
    "agg_data['FractionOfGadCells'] *= 100\n",
    "\n",
    "groupby = 'Ensemble'\n",
    "plot_var = 'FractionOfGadCells'\n",
    "\n",
    "colors = ['rgb(236,34,42)', 'rgb(144,96,129)', 'rgb(0,50,255)', 'rgb(255,255,255)']\n",
    "agg_data[groupby] = pd.Categorical(agg_data[groupby], categories=['Aversive', 'Overlap', 'Neutral', 'Remaining'])\n",
    "\n",
    "visualizations.plotMeanData(agg_data=agg_data, groupby=groupby, plot_var=plot_var, colors=colors, opacity=1,\n",
    "                            y_title='% of GAD Cells<br>in Ensemble', y_range=(0,75), plot_datalines=True, plot_title=fig_panel)"
   ]
  },
  {
   "cell_type": "markdown",
   "metadata": {},
   "source": [
    "### Extended Data 6c"
   ]
  },
  {
   "cell_type": "code",
   "execution_count": null,
   "metadata": {},
   "outputs": [],
   "source": [
    "fig_panel = 'ExtData6c'\n",
    "agg_data = pd.read_csv('../ExtendedData6/{}.csv'.format(fig_panel))\n",
    "agg_data = agg_data[agg_data['CutoffFraction'] == 10] # use the 10% of cells cutoff\n",
    "agg_data['FractionOfEnsembleCells'] *= 100\n",
    "\n",
    "groupby = 'Ensemble'\n",
    "plot_var = 'FractionOfEnsembleCells'\n",
    "\n",
    "colors = ['rgb(236,34,42)', 'rgb(144,96,129)', 'rgb(0,50,255)', 'rgb(255,255,255)']\n",
    "agg_data[groupby] = pd.Categorical(agg_data[groupby], categories=['Aversive', 'Overlap', 'Neutral', 'Remaining'])\n",
    "\n",
    "visualizations.plotMeanData(agg_data=agg_data, groupby=groupby, plot_var=plot_var, colors=colors, opacity=1,\n",
    "                            y_title='% of Ensemble<br>Putative GAD+', y_range=(0,30), plot_datalines=True, plot_title=fig_panel)"
   ]
  },
  {
   "cell_type": "markdown",
   "metadata": {},
   "source": [
    "### Extended Data 6d"
   ]
  },
  {
   "cell_type": "code",
   "execution_count": null,
   "metadata": {},
   "outputs": [],
   "source": [
    "fig_panel = 'ExtData6d'\n",
    "agg_data = pd.read_csv('../ExtendedData6/{}.csv'.format(fig_panel))\n",
    "\n",
    "mean_data = agg_data.groupby(['Time']).mean().reset_index().sort_values('Time')\n",
    "time = mean_data['Time']\n",
    "mean = mean_data['AverageActivity']\n",
    "sem  = agg_data.groupby(['Time']).sem().reset_index().sort_values('Time')['AverageActivity'].values\n",
    "\n",
    "fig = go.Figure()\n",
    "\n",
    "for mouse in agg_data['Mouse'].unique():\n",
    "    mouse_data = agg_data[agg_data['Mouse'] == mouse].sort_values('Time')\n",
    "    fig.add_trace(go.Scattergl(x=mouse_data['Time'], y=mouse_data['AverageActivity'], mode='lines', line=dict(color='slategrey', width=1), showlegend=False))\n",
    "\n",
    "fig.add_trace(go.Scatter(x=time, y=(mean + sem),\n",
    "                            mode='lines', fill=None, line=dict(color='black', width=0), hoverinfo='skip', showlegend=False))\n",
    "fig.add_trace(go.Scatter(x=time, y=(mean - sem),\n",
    "                            mode='lines', fill='tonexty', line=dict(color='black', width=0), hoverinfo='skip', showlegend=False))\n",
    "fig.add_trace(go.Scattergl(x=time, y=mean, mode='lines', line=dict(color='black', width=2), showlegend=False))\n",
    "\n",
    "fig.update_layout(template='simple_white', width=500, height=500, font=dict(size=20, family='Arial'), title_text=fig_panel,\n",
    "                  xaxis_title='Time (sec)', yaxis_title='Mean Population Activity<br>Around Bursts (Z-Score)')\n",
    "fig.show()"
   ]
  },
  {
   "cell_type": "markdown",
   "metadata": {},
   "source": [
    "### Extended Data 6e"
   ]
  },
  {
   "cell_type": "code",
   "execution_count": null,
   "metadata": {},
   "outputs": [],
   "source": [
    "fig_panel = 'ExtData6e'\n",
    "agg_data = pd.read_csv('../ExtendedData6/{}.csv'.format(fig_panel))\n",
    "\n",
    "mean_data = agg_data.groupby(['Time']).mean().reset_index().sort_values('Time')\n",
    "time = mean_data['Time']\n",
    "mean = mean_data['AverageLocomotion']\n",
    "sem  = agg_data.groupby(['Time']).sem().reset_index().sort_values('Time')['AverageLocomotion'].values\n",
    "\n",
    "fig = go.Figure()\n",
    "\n",
    "for mouse in agg_data['Mouse'].unique():\n",
    "    mouse_data = agg_data[agg_data['Mouse'] == mouse].sort_values('Time')\n",
    "    fig.add_trace(go.Scattergl(x=mouse_data['Time'], y=mouse_data['AverageLocomotion'], mode='lines', line=dict(color='slategrey', width=1), showlegend=False))\n",
    "\n",
    "fig.add_trace(go.Scatter(x=time, y=(mean + sem),\n",
    "                            mode='lines', fill=None, line=dict(color='black', width=0), hoverinfo='skip', showlegend=False))\n",
    "fig.add_trace(go.Scatter(x=time, y=(mean - sem),\n",
    "                            mode='lines', fill='tonexty', line=dict(color='black', width=0), hoverinfo='skip', showlegend=False))\n",
    "fig.add_trace(go.Scattergl(x=time, y=mean, mode='lines', line=dict(color='black', width=2), showlegend=False))\n",
    "\n",
    "fig.update_layout(template='simple_white', width=500, height=500, font=dict(size=20, family='Arial'), title_text=fig_panel,\n",
    "                  xaxis_title='Time (sec)', yaxis_title='Mean Locomotion<br>Around Bursts (A.U.)')\n",
    "fig.show()"
   ]
  },
  {
   "cell_type": "markdown",
   "metadata": {},
   "source": [
    "### Extended Data 6f"
   ]
  },
  {
   "cell_type": "code",
   "execution_count": null,
   "metadata": {},
   "outputs": [],
   "source": [
    "fig_panel = 'ExtData6f'\n",
    "agg_data = pd.read_csv('../ExtendedData6/{}.csv'.format(fig_panel))\n",
    "\n",
    "groupby = 'EnsembleCombo'\n",
    "plot_var = 'Fraction'\n",
    "\n",
    "colors = ['rgb(0,50,255)', 'rgb(236,34,42)', 'rgb(144,96,129)']\n",
    "agg_data[groupby] = pd.Categorical(agg_data[groupby], categories=['Neutral', 'Aversive', 'Overlap'])\n",
    "\n",
    "visualizations.plotMeanData(agg_data=agg_data, groupby=groupby, plot_var=plot_var, colors=colors, opacity=1,\n",
    "                            y_title='% of Events', y_range=(0,25), plot_datalines=True, plot_title=fig_panel)"
   ]
  },
  {
   "cell_type": "markdown",
   "metadata": {},
   "source": [
    "### Extended Data 6g"
   ]
  },
  {
   "cell_type": "code",
   "execution_count": null,
   "metadata": {},
   "outputs": [],
   "source": [
    "fig_panel = 'ExtData6g'\n",
    "agg_data = pd.read_csv('../ExtendedData6/{}.csv'.format(fig_panel))\n",
    "\n",
    "groupby = 'EnsembleCombo'\n",
    "plot_var = 'Fraction'\n",
    "\n",
    "colors = 'slategrey'\n",
    "agg_data[groupby] = pd.Categorical(agg_data[groupby], categories=['Overlap x Neutral', 'Overlap x Aversive', 'Neutral x Aversive', 'Overlap x Neutral x Aversive'])\n",
    "\n",
    "visualizations.plotMeanData(agg_data=agg_data, groupby=groupby, plot_var=plot_var, colors=colors, opacity=1,\n",
    "                            y_title='% of Events', y_range=(0,25), plot_width=500, plot_height=600, plot_datalines=True, plot_title=fig_panel)"
   ]
  },
  {
   "cell_type": "markdown",
   "metadata": {},
   "source": [
    "### Extended Data 6h"
   ]
  },
  {
   "cell_type": "code",
   "execution_count": null,
   "metadata": {},
   "outputs": [],
   "source": [
    "fig_panel = 'ExtData6h'\n",
    "agg_data = pd.read_csv('../ExtendedData6/{}.csv'.format(fig_panel))\n",
    "\n",
    "time_var = 'Bin'\n",
    "plot_var = 'Participation'\n",
    "\n",
    "colors = ['black']\n",
    "agg_data[time_var] = pd.Categorical(agg_data[time_var])\n",
    "\n",
    "visualizations.plotAcrossTime(agg_data=agg_data, time_var=time_var, plot_var=plot_var, colors=colors, add_hline=False,\n",
    "                              y_title='% Burst Participation', x_title='Cells Active During Offline<br>(Sorted by Chemotag Response)', plot_datalines=True, title=fig_panel)"
   ]
  },
  {
   "cell_type": "markdown",
   "metadata": {},
   "source": [
    "### Extended Data 6i"
   ]
  },
  {
   "cell_type": "code",
   "execution_count": null,
   "metadata": {},
   "outputs": [],
   "source": [
    "fig_panel = 'ExtData6i'\n",
    "agg_data = pd.read_csv('../ExtendedData6/{}.csv'.format(fig_panel))\n",
    "\n",
    "groupby = 'TrueVsShuffle'\n",
    "plot_var = 'Accuracy'\n",
    "\n",
    "colors = ['steelblue', 'slategrey']\n",
    "agg_data[groupby] = pd.Categorical(agg_data[groupby], categories=['True', 'Shuffle'])\n",
    "\n",
    "visualizations.plotMeanData(agg_data=agg_data, groupby=groupby, plot_var=plot_var, colors=colors, opacity=1,\n",
    "                            y_title='Accuracy', y_range=(0,1), plot_datalines=True, plot_title=fig_panel)"
   ]
  },
  {
   "cell_type": "markdown",
   "metadata": {},
   "source": [
    "### Extended Data 6j"
   ]
  },
  {
   "cell_type": "code",
   "execution_count": null,
   "metadata": {},
   "outputs": [],
   "source": [
    "fig_panel = 'ExtData6j'\n",
    "agg_data = pd.read_csv('../ExtendedData6/{}.csv'.format(fig_panel))\n",
    "\n",
    "time_var = 'Bin'\n",
    "groupby = 'TrueVsShuffle'\n",
    "plot_var = 'Accuracy'\n",
    "\n",
    "colors = ['steelblue', 'slategrey']\n",
    "agg_data[time_var] = pd.Categorical(agg_data[time_var])\n",
    "agg_data[groupby] = pd.Categorical(agg_data[groupby], categories=['True', 'Shuffle'])\n",
    "\n",
    "visualizations.plotAcrossTime(agg_data=agg_data, time_var=time_var, groupby=groupby, plot_var=plot_var, colors=colors, add_hline=False,\n",
    "                              y_title='SVM Accuracy', x_title='Cells Active During Offline<br>(Sorted by Chemotag Response)', plot_datalines=False, title=fig_panel)"
   ]
  },
  {
   "cell_type": "code",
   "execution_count": null,
   "metadata": {},
   "outputs": [],
   "source": []
  },
  {
   "cell_type": "code",
   "execution_count": null,
   "metadata": {},
   "outputs": [],
   "source": []
  },
  {
   "cell_type": "code",
   "execution_count": null,
   "metadata": {},
   "outputs": [],
   "source": []
  }
 ],
 "metadata": {
  "kernelspec": {
   "display_name": "calcium",
   "language": "python",
   "name": "python3"
  },
  "language_info": {
   "codemirror_mode": {
    "name": "ipython",
    "version": 3
   },
   "file_extension": ".py",
   "mimetype": "text/x-python",
   "name": "python",
   "nbconvert_exporter": "python",
   "pygments_lexer": "ipython3",
   "version": "3.8.12"
  }
 },
 "nbformat": 4,
 "nbformat_minor": 2
}
