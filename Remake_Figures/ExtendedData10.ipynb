{
 "cells": [
  {
   "cell_type": "code",
   "execution_count": 1,
   "metadata": {},
   "outputs": [],
   "source": [
    "import pandas as pd\n",
    "import visualizations\n",
    "import plotly.express as px\n",
    "from plotly.colors import sample_colorscale"
   ]
  },
  {
   "cell_type": "markdown",
   "metadata": {},
   "source": [
    "### Extended Data 10b"
   ]
  },
  {
   "cell_type": "code",
   "execution_count": null,
   "metadata": {},
   "outputs": [],
   "source": [
    "fig_panel = 'ExtData10b'\n",
    "agg_data = pd.read_csv('../ExtendedData10/{}.csv'.format(fig_panel))\n",
    "agg_data = agg_data[agg_data['Sleep'] == 'sleep']\n",
    "\n",
    "time_var = 'TimeBin'\n",
    "groupby = 'Day'\n",
    "separateby = 'Amplitude'\n",
    "plot_var = 'Proportion'\n",
    "\n",
    "colors = ['slategrey', 'darkblue', 'red']\n",
    "agg_data[time_var] = pd.Categorical(agg_data[time_var])\n",
    "agg_data[groupby] = pd.Categorical(agg_data[groupby], categories=['PreNeutral', 'PostNeutral', 'PostAversive'])\n",
    "agg_data[separateby] = pd.Categorical(agg_data[separateby])\n",
    "\n",
    "visualizations.plotAcrossTime(agg_data=agg_data, time_var=time_var, groupby=groupby, separateby=separateby, plot_var=plot_var, colors=colors, add_hline=False,\n",
    "                              y_title='% of Time Sleeping', x_title='Time (hours)', y_range=(0,100), plot_width=1500, h_spacing=0.05, title=fig_panel)"
   ]
  },
  {
   "cell_type": "markdown",
   "metadata": {},
   "source": [
    "### Extended Data 10c"
   ]
  },
  {
   "cell_type": "code",
   "execution_count": null,
   "metadata": {},
   "outputs": [],
   "source": [
    "fig_panel = 'ExtData10c'\n",
    "agg_data = pd.read_csv('../ExtendedData10/{}.csv'.format(fig_panel))\n",
    "agg_data = agg_data[agg_data['Sleep'] == 'sleep']\n",
    "\n",
    "time_var = 'TimeBin'\n",
    "groupby = 'Day'\n",
    "separateby = 'Amplitude'\n",
    "plot_var = 'Proportion'\n",
    "\n",
    "colors = ['slategrey', 'darkblue', 'red']\n",
    "agg_data[time_var] = pd.Categorical(agg_data[time_var])\n",
    "agg_data[groupby] = pd.Categorical(agg_data[groupby], categories=['PreNeutral', 'PostNeutral', 'PostAversive'])\n",
    "agg_data[separateby] = pd.Categorical(agg_data[separateby])\n",
    "\n",
    "visualizations.plotAcrossTime(agg_data=agg_data, time_var=time_var, groupby=groupby, separateby=separateby, plot_var=plot_var, colors=colors, add_hline=False,\n",
    "                              y_title='% of Time Sleeping', x_title='Time (hours)', y_range=(0,100), plot_width=1500, h_spacing=0.05, title=fig_panel)"
   ]
  },
  {
   "cell_type": "markdown",
   "metadata": {},
   "source": [
    "### Extended Data 10d"
   ]
  },
  {
   "cell_type": "code",
   "execution_count": null,
   "metadata": {},
   "outputs": [],
   "source": [
    "fig_panel = 'ExtData10d'\n",
    "agg_data = pd.read_csv('../ExtendedData10/{}.csv'.format(fig_panel))\n",
    "\n",
    "time_var = 'TimeBin'\n",
    "groupby = 'Day'\n",
    "separateby = 'SleepState'\n",
    "plot_var = 'Proportion'\n",
    "\n",
    "colors = ['slategrey', 'darkblue', 'red']\n",
    "agg_data[time_var] = pd.Categorical(agg_data[time_var])\n",
    "agg_data[groupby] = pd.Categorical(agg_data[groupby], categories=['PreNeutral', 'PostNeutral', 'PostAversive'])\n",
    "agg_data[separateby] = pd.Categorical(agg_data[separateby])\n",
    "\n",
    "for amp in agg_data['Amplitude'].unique():\n",
    "    amp_data = agg_data[agg_data['Amplitude'] == amp]\n",
    "    visualizations.plotAcrossTime(agg_data=amp_data, time_var=time_var, groupby=groupby, separateby=separateby, plot_var=plot_var, colors=colors, add_hline=False,\n",
    "                                y_title='% of Time in Sleep State', x_title='Time (hours)', y_range=(0,100), plot_width=1500, h_spacing=0.05, title=fig_panel + ' {}'.format(amp))"
   ]
  },
  {
   "cell_type": "markdown",
   "metadata": {},
   "source": [
    "### Extended Data 10e"
   ]
  },
  {
   "cell_type": "code",
   "execution_count": null,
   "metadata": {},
   "outputs": [],
   "source": [
    "fig_panel = 'ExtData10e'\n",
    "agg_data = pd.read_csv('../ExtendedData10/{}.csv'.format(fig_panel))\n",
    "\n",
    "time_var = 'TimeBin'\n",
    "groupby = 'Day'\n",
    "separateby = 'SleepState'\n",
    "plot_var = 'StateLength'\n",
    "\n",
    "colors = ['slategrey', 'darkblue', 'red']\n",
    "agg_data[time_var] = pd.Categorical(agg_data[time_var])\n",
    "agg_data[groupby] = pd.Categorical(agg_data[groupby], categories=['PreNeutral', 'PostNeutral', 'PostAversive'])\n",
    "agg_data[separateby] = pd.Categorical(agg_data[separateby])\n",
    "\n",
    "for amp in agg_data['Amplitude'].unique():\n",
    "    amp_data = agg_data[agg_data['Amplitude'] == amp]\n",
    "    visualizations.plotAcrossTime(agg_data=amp_data, time_var=time_var, groupby=groupby, separateby=separateby, plot_var=plot_var, colors=colors, add_hline=False, scale_y=False,\n",
    "                                y_title='Bout Length (sec)', x_title='Time (hours)', plot_width=1500, h_spacing=0.05, title=fig_panel + ' {}'.format(amp))"
   ]
  },
  {
   "cell_type": "markdown",
   "metadata": {},
   "source": [
    "### Extended Data 10f"
   ]
  },
  {
   "cell_type": "code",
   "execution_count": null,
   "metadata": {},
   "outputs": [],
   "source": [
    "fig_panel = 'ExtData10f'\n",
    "agg_data = pd.read_csv('../ExtendedData10/{}.csv'.format(fig_panel))\n",
    "agg_data = agg_data.groupby(['Amplitude', 'Day', 'Previous', 'Next']).mean().reset_index()\n",
    "\n",
    "groupby = 'Previous'\n",
    "separateby = 'Day'\n",
    "plot_var = 'Probability'\n",
    "\n",
    "colors = ['slategrey', 'darkblue', 'red']\n",
    "agg_data[groupby] = pd.Categorical(agg_data[groupby])\n",
    "agg_data[separateby] = pd.Categorical(agg_data[separateby], categories=['PreNeutral', 'PostNeutral', 'PostAversive'])\n",
    "\n",
    "colors = sample_colorscale('PrGn_r', 4, low=0.1, high=0.9, colortype='rgb')\n",
    "sleep_colors_dict = {'nrem':colors[0], 'rem':colors[1], 'wake':colors[2], 'none':'black'}\n",
    "\n",
    "for amp in agg_data['Amplitude'].unique():\n",
    "    amp_data = agg_data[agg_data['Amplitude'] == amp]\n",
    "    amp_data = amp_data.sort_values(groupby)\n",
    "    colors = [sleep_colors_dict[x] for x in amp_data['Previous'].unique()]\n",
    "    fig = px.bar(amp_data, x=groupby, y=plot_var, color=\"Next\", facet_col=separateby, color_discrete_sequence=colors)\n",
    "    fig.update_layout(template='simple_white', width=800, height=400, title_text=amp, font=dict(size=20, family='Arial'))\n",
    "    fig.show()"
   ]
  },
  {
   "cell_type": "code",
   "execution_count": null,
   "metadata": {},
   "outputs": [],
   "source": []
  }
 ],
 "metadata": {
  "kernelspec": {
   "display_name": "calcium",
   "language": "python",
   "name": "python3"
  },
  "language_info": {
   "codemirror_mode": {
    "name": "ipython",
    "version": 3
   },
   "file_extension": ".py",
   "mimetype": "text/x-python",
   "name": "python",
   "nbconvert_exporter": "python",
   "pygments_lexer": "ipython3",
   "version": "3.8.12"
  }
 },
 "nbformat": 4,
 "nbformat_minor": 2
}
