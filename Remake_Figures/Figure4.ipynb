{
 "cells": [
  {
   "cell_type": "code",
   "execution_count": 1,
   "metadata": {},
   "outputs": [],
   "source": [
    "import pandas as pd\n",
    "import visualizations"
   ]
  },
  {
   "cell_type": "markdown",
   "metadata": {},
   "source": [
    "### Fig 4b"
   ]
  },
  {
   "cell_type": "code",
   "execution_count": null,
   "metadata": {},
   "outputs": [],
   "source": [
    "fig_panel = 'Fig_4b'\n",
    "agg_data = pd.read_csv('../Figure4/{}.csv'.format(fig_panel))\n",
    "groupby = 'Ensemble'\n",
    "separateby = 'Amplitude'\n",
    "plot_var = 'Fraction'\n",
    "\n",
    "colors = ['rgb(255,50,0)', 'rgb(0,50,255)', 'rgb(144,96,129)']\n",
    "agg_data[groupby] = pd.Categorical(agg_data[groupby])\n",
    "agg_data[separateby] = pd.Categorical(agg_data[separateby], categories=['LowShock', 'HighShock'])\n",
    "\n",
    "visualizations.plotAcrossGroups(agg_data=agg_data, groupby=groupby, separateby=separateby, plot_var=plot_var, plot_width=400,\n",
    "                                colors=colors, opacity=1, y_title='Independent Participation (%)', y_range=(0,25), plot_datalines=True, plot_title=fig_panel)"
   ]
  },
  {
   "cell_type": "markdown",
   "metadata": {},
   "source": [
    "### Fig 4c"
   ]
  },
  {
   "cell_type": "code",
   "execution_count": null,
   "metadata": {},
   "outputs": [],
   "source": [
    "fig_panel = 'Fig_4c'\n",
    "agg_data = pd.read_csv('../Figure4/{}.csv'.format(fig_panel))\n",
    "groupby = 'Ensemble'\n",
    "separateby = 'Amplitude'\n",
    "plot_var = 'Fraction'\n",
    "\n",
    "colors = ['rgb(255,50,0)', 'rgb(0,50,255)', 'rgb(144,96,129)']\n",
    "agg_data[groupby] = pd.Categorical(agg_data[groupby])\n",
    "agg_data[separateby] = pd.Categorical(agg_data[separateby], categories=['LowShock', 'HighShock'])\n",
    "\n",
    "visualizations.plotAcrossGroups(agg_data=agg_data, groupby=groupby, separateby=separateby, plot_var=plot_var, plot_width=400,\n",
    "                                colors=colors, opacity=1, y_title='Independent Participation (%)', y_range=(0,25), plot_datalines=True, plot_title=fig_panel)"
   ]
  },
  {
   "cell_type": "markdown",
   "metadata": {},
   "source": [
    "### Fig 4e"
   ]
  },
  {
   "cell_type": "code",
   "execution_count": null,
   "metadata": {},
   "outputs": [],
   "source": [
    "fig_panel = 'Fig_4e'\n",
    "agg_data = pd.read_csv('../Figure4/{}.csv'.format(fig_panel))\n",
    "groupby = 'Ensemble'\n",
    "separateby = 'Amplitude'\n",
    "plot_var = 'Fraction'\n",
    "\n",
    "colors = ['rgb(255,50,0)', 'rgb(0,50,255)']\n",
    "agg_data[groupby] = pd.Categorical(agg_data[groupby])\n",
    "agg_data[separateby] = pd.Categorical(agg_data[separateby], categories=['LowShock', 'HighShock'])\n",
    "\n",
    "visualizations.plotAcrossGroups(agg_data=agg_data, groupby=groupby, separateby=separateby, plot_var=plot_var, plot_width=400,\n",
    "                                colors=colors, opacity=1, y_title='Co-Participation (%)', y_range=(0,21), plot_datalines=True, plot_title=fig_panel)"
   ]
  },
  {
   "cell_type": "markdown",
   "metadata": {},
   "source": [
    "### Fig 4f"
   ]
  },
  {
   "cell_type": "code",
   "execution_count": null,
   "metadata": {},
   "outputs": [],
   "source": [
    "fig_panel = 'Fig_4f'\n",
    "agg_data = pd.read_csv('../Figure4/{}.csv'.format(fig_panel))\n",
    "groupby = 'Ensemble'\n",
    "separateby = 'Amplitude'\n",
    "plot_var = 'Fraction'\n",
    "\n",
    "colors = ['rgb(255,50,0)', 'rgb(0,50,255)']\n",
    "agg_data[groupby] = pd.Categorical(agg_data[groupby])\n",
    "agg_data[separateby] = pd.Categorical(agg_data[separateby], categories=['LowShock', 'HighShock'])\n",
    "\n",
    "visualizations.plotAcrossGroups(agg_data=agg_data, groupby=groupby, separateby=separateby, plot_var=plot_var, plot_width=400,\n",
    "                                colors=colors, opacity=1, y_title='Co-Participation (%)', y_range=(0,1), plot_datalines=True, plot_title=fig_panel)"
   ]
  },
  {
   "cell_type": "code",
   "execution_count": null,
   "metadata": {},
   "outputs": [],
   "source": []
  }
 ],
 "metadata": {
  "kernelspec": {
   "display_name": "calcium",
   "language": "python",
   "name": "python3"
  },
  "language_info": {
   "codemirror_mode": {
    "name": "ipython",
    "version": 3
   },
   "file_extension": ".py",
   "mimetype": "text/x-python",
   "name": "python",
   "nbconvert_exporter": "python",
   "pygments_lexer": "ipython3",
   "version": "3.8.12"
  }
 },
 "nbformat": 4,
 "nbformat_minor": 2
}
