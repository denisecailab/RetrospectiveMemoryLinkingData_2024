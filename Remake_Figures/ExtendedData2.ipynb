{
 "cells": [
  {
   "cell_type": "code",
   "execution_count": null,
   "metadata": {},
   "outputs": [],
   "source": [
    "import pandas as pd\n",
    "import visualizations"
   ]
  },
  {
   "cell_type": "markdown",
   "metadata": {},
   "source": [
    "### Extended Data 2b"
   ]
  },
  {
   "cell_type": "code",
   "execution_count": null,
   "metadata": {},
   "outputs": [],
   "source": [
    "fig_panel = 'ExtData2b'\n",
    "agg_data = pd.read_csv('../ExtendedData2/{}.csv'.format(fig_panel))\n",
    "\n",
    "groupby = 'Drug'\n",
    "plot_var = 'Motion'\n",
    "\n",
    "colors = 'rgb(236,34,42)'\n",
    "agg_data[groupby] = pd.Categorical(agg_data[groupby])\n",
    "\n",
    "visualizations.plotMeanData(agg_data=agg_data, groupby=groupby, plot_var=plot_var, colors=colors, opacity=1,\n",
    "                            y_title='Motion (A.U.)', y_range=(0,400), plot_datapoints=True, plot_title=fig_panel)"
   ]
  },
  {
   "cell_type": "markdown",
   "metadata": {},
   "source": [
    "### Extended Data 2c"
   ]
  },
  {
   "cell_type": "code",
   "execution_count": null,
   "metadata": {},
   "outputs": [],
   "source": [
    "fig_panel = 'ExtData2c'\n",
    "agg_data = pd.read_csv('../ExtendedData2/{}.csv'.format(fig_panel))\n",
    "\n",
    "groupby = 'Drug'\n",
    "plot_var = 'Motion'\n",
    "\n",
    "colors = 'rgb(236,34,42)'\n",
    "agg_data[groupby] = pd.Categorical(agg_data[groupby])\n",
    "\n",
    "visualizations.plotMeanData(agg_data=agg_data, groupby=groupby, plot_var=plot_var, colors=colors, opacity=1,\n",
    "                            y_title='Motion (A.U.)', y_range=(0,400), plot_datapoints=True, plot_title=fig_panel)"
   ]
  },
  {
   "cell_type": "markdown",
   "metadata": {},
   "source": [
    "### Extended Data 2e"
   ]
  },
  {
   "cell_type": "code",
   "execution_count": null,
   "metadata": {},
   "outputs": [],
   "source": [
    "fig_panel = 'ExtData2e'\n",
    "agg_data = pd.read_csv('../ExtendedData2/{}.csv'.format(fig_panel))\n",
    "\n",
    "groupby = 'Drug'\n",
    "plot_var = 'Motion'\n",
    "\n",
    "colors = 'rgb(236,34,42)'\n",
    "agg_data[groupby] = pd.Categorical(agg_data[groupby])\n",
    "\n",
    "visualizations.plotMeanData(agg_data=agg_data, groupby=groupby, plot_var=plot_var, colors=colors, opacity=1,\n",
    "                            y_title='Motion (A.U.)', y_range=(0,400), plot_datapoints=True, plot_title=fig_panel)"
   ]
  },
  {
   "cell_type": "markdown",
   "metadata": {},
   "source": [
    "### Extended Data 2f"
   ]
  },
  {
   "cell_type": "code",
   "execution_count": null,
   "metadata": {},
   "outputs": [],
   "source": [
    "fig_panel = 'ExtData2f'\n",
    "agg_data = pd.read_csv('../ExtendedData2/{}.csv'.format(fig_panel))\n",
    "\n",
    "groupby = 'Drug'\n",
    "plot_var = 'Motion'\n",
    "\n",
    "colors = 'rgb(30,117,188)'\n",
    "agg_data[groupby] = pd.Categorical(agg_data[groupby])\n",
    "\n",
    "visualizations.plotMeanData(agg_data=agg_data, groupby=groupby, plot_var=plot_var, colors=colors, opacity=1,\n",
    "                            y_title='Motion (A.U.)', y_range=(0,400), plot_datapoints=True, plot_title=fig_panel)"
   ]
  },
  {
   "cell_type": "markdown",
   "metadata": {},
   "source": [
    "### Extended Data 2h - neutral"
   ]
  },
  {
   "cell_type": "code",
   "execution_count": null,
   "metadata": {},
   "outputs": [],
   "source": [
    "fig_panel = 'ExtData2h_neutral'\n",
    "agg_data = pd.read_csv('../ExtendedData2/{}.csv'.format(fig_panel))\n",
    "\n",
    "groupby = 'Drug'\n",
    "plot_var = 'Motion'\n",
    "\n",
    "colors = 'rgb(30,117,188)'\n",
    "agg_data[groupby] = pd.Categorical(agg_data[groupby])\n",
    "\n",
    "visualizations.plotMeanData(agg_data=agg_data, groupby=groupby, plot_var=plot_var, colors=colors, opacity=1,\n",
    "                            y_title='Motion (A.U.)', y_range=(0,500), plot_datapoints=True, plot_title=fig_panel)"
   ]
  },
  {
   "cell_type": "markdown",
   "metadata": {},
   "source": [
    "### Extended Data 2h - positive"
   ]
  },
  {
   "cell_type": "code",
   "execution_count": null,
   "metadata": {},
   "outputs": [],
   "source": [
    "fig_panel = 'ExtData2h_positive'\n",
    "agg_data = pd.read_csv('../ExtendedData2/{}.csv'.format(fig_panel))\n",
    "\n",
    "groupby = 'Drug'\n",
    "plot_var = 'Motion'\n",
    "\n",
    "colors = 'rgb(236,34,42)'\n",
    "agg_data[groupby] = pd.Categorical(agg_data[groupby])\n",
    "\n",
    "visualizations.plotMeanData(agg_data=agg_data, groupby=groupby, plot_var=plot_var, colors=colors, opacity=1,\n",
    "                            y_title='Motion (A.U.)', y_range=(0,500), plot_datapoints=True, plot_title=fig_panel)"
   ]
  },
  {
   "cell_type": "markdown",
   "metadata": {},
   "source": [
    "### Extended Data 2i - neutral"
   ]
  },
  {
   "cell_type": "code",
   "execution_count": null,
   "metadata": {},
   "outputs": [],
   "source": [
    "fig_panel = 'ExtData2i_neutral'\n",
    "agg_data = pd.read_csv('../ExtendedData2/{}.csv'.format(fig_panel))\n",
    "\n",
    "groupby = 'Drug'\n",
    "plot_var = 'Motion'\n",
    "\n",
    "colors = 'rgb(30,117,188)'\n",
    "agg_data[groupby] = pd.Categorical(agg_data[groupby])\n",
    "\n",
    "visualizations.plotMeanData(agg_data=agg_data, groupby=groupby, plot_var=plot_var, colors=colors, opacity=1,\n",
    "                            y_title='Motion (A.U.)', y_range=(0,500), plot_datapoints=True, plot_title=fig_panel)"
   ]
  },
  {
   "cell_type": "markdown",
   "metadata": {},
   "source": [
    "### Extended Data 2i - novel"
   ]
  },
  {
   "cell_type": "code",
   "execution_count": null,
   "metadata": {},
   "outputs": [],
   "source": [
    "fig_panel = 'ExtData2i_novel'\n",
    "agg_data = pd.read_csv('../ExtendedData2/{}.csv'.format(fig_panel))\n",
    "\n",
    "groupby = 'Drug'\n",
    "plot_var = 'Motion'\n",
    "\n",
    "colors = 'rgb(74,113,52)'\n",
    "agg_data[groupby] = pd.Categorical(agg_data[groupby])\n",
    "\n",
    "visualizations.plotMeanData(agg_data=agg_data, groupby=groupby, plot_var=plot_var, colors=colors, opacity=1,\n",
    "                            y_title='Motion (A.U.)', y_range=(0,500), plot_datapoints=True, plot_title=fig_panel)"
   ]
  },
  {
   "cell_type": "code",
   "execution_count": null,
   "metadata": {},
   "outputs": [],
   "source": []
  }
 ],
 "metadata": {
  "kernelspec": {
   "display_name": "calcium",
   "language": "python",
   "name": "python3"
  },
  "language_info": {
   "codemirror_mode": {
    "name": "ipython",
    "version": 3
   },
   "file_extension": ".py",
   "mimetype": "text/x-python",
   "name": "python",
   "nbconvert_exporter": "python",
   "pygments_lexer": "ipython3",
   "version": "3.8.12"
  }
 },
 "nbformat": 4,
 "nbformat_minor": 2
}
