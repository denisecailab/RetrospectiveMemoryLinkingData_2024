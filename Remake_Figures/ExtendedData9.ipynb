{
 "cells": [
  {
   "cell_type": "code",
   "execution_count": 1,
   "metadata": {},
   "outputs": [],
   "source": [
    "import pandas as pd\n",
    "import visualizations\n",
    "from plotly.colors import sample_colorscale"
   ]
  },
  {
   "cell_type": "markdown",
   "metadata": {},
   "source": [
    "### Extended Data 9b"
   ]
  },
  {
   "cell_type": "code",
   "execution_count": null,
   "metadata": {},
   "outputs": [],
   "source": [
    "fig_panel = 'ExtData9b'\n",
    "agg_data = pd.read_csv('../ExtendedData9/{}.csv'.format(fig_panel))\n",
    "\n",
    "groupby = 'Amplitude'\n",
    "plot_var = 'Freezing'\n",
    "\n",
    "colors = 'rgb(236,34,42)'\n",
    "agg_data[groupby] = pd.Categorical(agg_data[groupby], categories=['Low Shock', 'High Shock'])\n",
    "\n",
    "visualizations.plotMeanData(agg_data=agg_data, groupby=groupby, plot_var=plot_var, colors=colors, opacity=1,\n",
    "                            y_title='% Freezing', y_range=(0,100), plot_datapoints=True, plot_title=fig_panel)"
   ]
  },
  {
   "cell_type": "markdown",
   "metadata": {},
   "source": [
    "### Extended Data 9c"
   ]
  },
  {
   "cell_type": "code",
   "execution_count": null,
   "metadata": {},
   "outputs": [],
   "source": [
    "fig_panel = 'ExtData9c'\n",
    "agg_data = pd.read_csv('../ExtendedData9/{}.csv'.format(fig_panel))\n",
    "\n",
    "groupby = 'Context'\n",
    "separateby = 'Amplitude'\n",
    "plot_var = 'Freezing'\n",
    "\n",
    "colors = ['rgb(0,50,255)','rgb(74,113,52)']\n",
    "agg_data[groupby] = pd.Categorical(agg_data[groupby])\n",
    "agg_data[separateby] = pd.Categorical(agg_data[separateby])\n",
    "\n",
    "visualizations.plotAcrossGroups(agg_data=agg_data, groupby=groupby, separateby=separateby, plot_var=plot_var,\n",
    "                                colors=colors, opacity=1, y_title='% Freezing', y_range=(0,100), plot_datalines=True, plot_title=fig_panel)"
   ]
  },
  {
   "cell_type": "markdown",
   "metadata": {},
   "source": [
    "### Extended Data 9d"
   ]
  },
  {
   "cell_type": "code",
   "execution_count": null,
   "metadata": {},
   "outputs": [],
   "source": [
    "fig_panel = 'ExtData9d'\n",
    "agg_data = pd.read_csv('../ExtendedData9/{}.csv'.format(fig_panel))\n",
    "agg_data = agg_data[agg_data['Sleep'] == 'sleep']\n",
    "\n",
    "time_var = 'TimeBin'\n",
    "groupby = 'Miniscope'\n",
    "plot_var = 'Proportion'\n",
    "\n",
    "colors = ['darkblue', 'slategrey']\n",
    "agg_data[time_var] = pd.Categorical(agg_data[time_var])\n",
    "agg_data[groupby] = pd.Categorical(agg_data[groupby])\n",
    "\n",
    "visualizations.plotAcrossTime(agg_data=agg_data, time_var=time_var, groupby=groupby, plot_var=plot_var, colors=colors, add_hline=False,\n",
    "                              y_title='% of Time<br>Sleeping', x_title='Zeitgeber Time (hours)', y_range=(0,100), title=fig_panel)"
   ]
  },
  {
   "cell_type": "markdown",
   "metadata": {},
   "source": [
    "### Extended Data 9e"
   ]
  },
  {
   "cell_type": "code",
   "execution_count": null,
   "metadata": {},
   "outputs": [],
   "source": [
    "fig_panel = 'ExtData9e'\n",
    "agg_data = pd.read_csv('../ExtendedData9/{}.csv'.format(fig_panel))\n",
    "\n",
    "time_var = 'TimeBin'\n",
    "groupby = 'Miniscope'\n",
    "separateby = 'SleepState'\n",
    "plot_var = 'Proportion'\n",
    "\n",
    "colors = ['darkblue', 'slategrey']\n",
    "agg_data[time_var] = pd.Categorical(agg_data[time_var])\n",
    "agg_data[groupby] = pd.Categorical(agg_data[groupby])\n",
    "agg_data[separateby] = pd.Categorical(agg_data[separateby])\n",
    "\n",
    "visualizations.plotAcrossTime(agg_data=agg_data, time_var=time_var, groupby=groupby, separateby=separateby, plot_var=plot_var, colors=colors, add_hline=False,\n",
    "                              y_title='% of Time<br>in Sleep State', x_title='Zeitgeber Time (hours)', y_range=(0,100), plot_width=1500, h_spacing=0.05, title=fig_panel)"
   ]
  },
  {
   "cell_type": "markdown",
   "metadata": {},
   "source": [
    "### Extended Data 9g - left (Miniscope Recordings)"
   ]
  },
  {
   "cell_type": "code",
   "execution_count": null,
   "metadata": {},
   "outputs": [],
   "source": [
    "fig_panel = 'ExtData9g_left'\n",
    "agg_data = pd.read_csv('../ExtendedData9/{}.csv'.format(fig_panel))\n",
    "\n",
    "groupby = 'SleepState'\n",
    "separateby = 'Amplitude'\n",
    "plot_var = 'Proportion'\n",
    "\n",
    "colors = sample_colorscale('PrGn_r', 4, low=0.1, high=0.9, colortype='rgb')\n",
    "agg_data[groupby] = pd.Categorical(agg_data[groupby])\n",
    "agg_data[separateby] = pd.Categorical(agg_data[separateby])\n",
    "\n",
    "visualizations.plotAcrossGroups(agg_data=agg_data, groupby=groupby, separateby=separateby, plot_var=plot_var,\n",
    "                                colors=colors, opacity=0.8, y_title='% Time in Sleep State', y_range=(0,100), plot_datalines=True, plot_title=fig_panel)"
   ]
  },
  {
   "cell_type": "markdown",
   "metadata": {},
   "source": [
    "### Extended Data 9g - right (Entire 12 Hours)"
   ]
  },
  {
   "cell_type": "code",
   "execution_count": null,
   "metadata": {},
   "outputs": [],
   "source": [
    "fig_panel = 'ExtData9g_right'\n",
    "agg_data = pd.read_csv('../ExtendedData9/{}.csv'.format(fig_panel))\n",
    "\n",
    "groupby = 'SleepState'\n",
    "separateby = 'Amplitude'\n",
    "plot_var = 'Proportion'\n",
    "\n",
    "colors = sample_colorscale('PrGn_r', 4, low=0.1, high=0.9, colortype='rgb')\n",
    "agg_data[groupby] = pd.Categorical(agg_data[groupby])\n",
    "agg_data[separateby] = pd.Categorical(agg_data[separateby])\n",
    "\n",
    "visualizations.plotAcrossGroups(agg_data=agg_data, groupby=groupby, separateby=separateby, plot_var=plot_var,\n",
    "                                colors=colors, opacity=0.8, y_title='% Time in Sleep State', y_range=(0,100), plot_datalines=True, plot_title=fig_panel)"
   ]
  },
  {
   "cell_type": "code",
   "execution_count": null,
   "metadata": {},
   "outputs": [],
   "source": []
  }
 ],
 "metadata": {
  "kernelspec": {
   "display_name": "calcium",
   "language": "python",
   "name": "python3"
  },
  "language_info": {
   "codemirror_mode": {
    "name": "ipython",
    "version": 3
   },
   "file_extension": ".py",
   "mimetype": "text/x-python",
   "name": "python",
   "nbconvert_exporter": "python",
   "pygments_lexer": "ipython3",
   "version": "3.8.12"
  }
 },
 "nbformat": 4,
 "nbformat_minor": 2
}
