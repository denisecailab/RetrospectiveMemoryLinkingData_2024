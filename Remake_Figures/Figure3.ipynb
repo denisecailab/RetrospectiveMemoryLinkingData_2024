{
 "cells": [
  {
   "cell_type": "code",
   "execution_count": 1,
   "metadata": {},
   "outputs": [],
   "source": [
    "import pandas as pd\n",
    "import visualizations"
   ]
  },
  {
   "cell_type": "markdown",
   "metadata": {},
   "source": [
    "### Fig 3c"
   ]
  },
  {
   "cell_type": "code",
   "execution_count": null,
   "metadata": {},
   "outputs": [],
   "source": [
    "fig_panel = 'Fig_3c'\n",
    "agg_data = pd.read_csv('../Figure3/{}.csv'.format(fig_panel))\n",
    "groupby = 'Ensemble'\n",
    "separateby = 'Amplitude'\n",
    "plot_var = 'FractionOfParticipation'\n",
    "\n",
    "colors = ['rgb(0,50,255)','rgb(255,255,255)']\n",
    "agg_data[groupby] = pd.Categorical(agg_data[groupby])\n",
    "agg_data[separateby] = pd.Categorical(agg_data[separateby], categories=['LowShock', 'HighShock'])\n",
    "\n",
    "visualizations.plotAcrossGroups(agg_data=agg_data, groupby=groupby, separateby=separateby, plot_var=plot_var, plot_width=400,\n",
    "                                colors=colors, opacity=1, y_title='Ensemble Participation (%)', y_range=(0,5), plot_datalines=True, plot_title=fig_panel)"
   ]
  },
  {
   "cell_type": "markdown",
   "metadata": {},
   "source": [
    "### Fig 3d"
   ]
  },
  {
   "cell_type": "code",
   "execution_count": null,
   "metadata": {},
   "outputs": [],
   "source": [
    "fig_panel = 'Fig_3d'\n",
    "agg_data = pd.read_csv('../Figure3/{}.csv'.format(fig_panel))\n",
    "groupby = 'Ensemble'\n",
    "separateby = 'Amplitude'\n",
    "plot_var = 'FractionOfParticipation'\n",
    "\n",
    "colors = ['rgb(236,34,42)','rgb(255,255,255)']\n",
    "agg_data[groupby] = pd.Categorical(agg_data[groupby])\n",
    "agg_data[separateby] = pd.Categorical(agg_data[separateby], categories=['LowShock', 'HighShock'])\n",
    "\n",
    "visualizations.plotAcrossGroups(agg_data=agg_data, groupby=groupby, separateby=separateby, plot_var=plot_var, plot_width=400,\n",
    "                                colors=colors, opacity=1, y_title='Ensemble Participation (%)', y_range=(0,5), plot_datalines=True, plot_title=fig_panel)"
   ]
  },
  {
   "cell_type": "markdown",
   "metadata": {},
   "source": [
    "### Fig 3e"
   ]
  },
  {
   "cell_type": "code",
   "execution_count": null,
   "metadata": {},
   "outputs": [],
   "source": [
    "fig_panel = 'Fig_3e'\n",
    "agg_data = pd.read_csv('../Figure3/{}.csv'.format(fig_panel))\n",
    "groupby = 'Ensemble'\n",
    "separateby = 'Amplitude'\n",
    "plot_var = 'FractionOfParticipation'\n",
    "\n",
    "colors = ['rgb(144,96,129)','rgb(255,255,255)']\n",
    "agg_data[groupby] = pd.Categorical(agg_data[groupby])\n",
    "agg_data[separateby] = pd.Categorical(agg_data[separateby], categories=['LowShock', 'HighShock'])\n",
    "\n",
    "visualizations.plotAcrossGroups(agg_data=agg_data, groupby=groupby, separateby=separateby, plot_var=plot_var, plot_width=400,\n",
    "                                colors=colors, opacity=1, y_title='Ensemble Participation (%)', y_range=(0,5), plot_datalines=True, plot_title=fig_panel)"
   ]
  },
  {
   "cell_type": "markdown",
   "metadata": {},
   "source": [
    "### Fig 3f"
   ]
  },
  {
   "cell_type": "code",
   "execution_count": null,
   "metadata": {},
   "outputs": [],
   "source": [
    "fig_panel = 'Fig_3f'\n",
    "agg_data = pd.read_csv('../Figure3/{}.csv'.format(fig_panel))\n",
    "groupby = 'Ensemble'\n",
    "separateby = 'Amplitude'\n",
    "plot_var = 'FractionOfParticipation'\n",
    "\n",
    "colors = ['rgb(0,50,255)','rgb(255,255,255)']\n",
    "agg_data[groupby] = pd.Categorical(agg_data[groupby])\n",
    "agg_data[separateby] = pd.Categorical(agg_data[separateby], categories=['LowShock', 'HighShock'])\n",
    "\n",
    "visualizations.plotAcrossGroups(agg_data=agg_data, groupby=groupby, separateby=separateby, plot_var=plot_var, plot_width=400,\n",
    "                                colors=colors, opacity=1, y_title='Ensemble Participation (%)', y_range=(0,5), plot_datalines=True, plot_title=fig_panel)"
   ]
  },
  {
   "cell_type": "code",
   "execution_count": null,
   "metadata": {},
   "outputs": [],
   "source": []
  },
  {
   "cell_type": "code",
   "execution_count": null,
   "metadata": {},
   "outputs": [],
   "source": []
  },
  {
   "cell_type": "code",
   "execution_count": null,
   "metadata": {},
   "outputs": [],
   "source": []
  },
  {
   "cell_type": "code",
   "execution_count": null,
   "metadata": {},
   "outputs": [],
   "source": []
  }
 ],
 "metadata": {
  "kernelspec": {
   "display_name": "calcium",
   "language": "python",
   "name": "python3"
  },
  "language_info": {
   "codemirror_mode": {
    "name": "ipython",
    "version": 3
   },
   "file_extension": ".py",
   "mimetype": "text/x-python",
   "name": "python",
   "nbconvert_exporter": "python",
   "pygments_lexer": "ipython3",
   "version": "3.8.12"
  }
 },
 "nbformat": 4,
 "nbformat_minor": 2
}
