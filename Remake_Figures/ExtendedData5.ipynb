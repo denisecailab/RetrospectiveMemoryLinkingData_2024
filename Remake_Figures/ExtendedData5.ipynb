{
 "cells": [
  {
   "cell_type": "code",
   "execution_count": 1,
   "metadata": {},
   "outputs": [],
   "source": [
    "import pandas as pd\n",
    "import visualizations"
   ]
  },
  {
   "cell_type": "markdown",
   "metadata": {},
   "source": [
    "### Extended Data 5g"
   ]
  },
  {
   "cell_type": "code",
   "execution_count": null,
   "metadata": {},
   "outputs": [],
   "source": [
    "fig_panel = 'ExtData5g'\n",
    "agg_data = pd.read_csv('../ExtendedData5/{}.csv'.format(fig_panel))\n",
    "\n",
    "groupby = 'Drug'\n",
    "plot_var = 'SD'\n",
    "\n",
    "colors = ['darkred', 'steelblue']\n",
    "agg_data[groupby] = pd.Categorical(agg_data[groupby], categories=['CNO', 'Sal'])\n",
    "\n",
    "visualizations.plotMeanData(agg_data=agg_data, groupby=groupby, plot_var=plot_var, colors=colors, opacity=1,\n",
    "                            y_title='Standard Deviation', y_range=(0,25), plot_width=350, plot_datalines=True, plot_title=fig_panel)"
   ]
  },
  {
   "cell_type": "markdown",
   "metadata": {},
   "source": [
    "### Extended Data 5h"
   ]
  },
  {
   "cell_type": "code",
   "execution_count": null,
   "metadata": {},
   "outputs": [],
   "source": [
    "fig_panel = 'ExtData5h'\n",
    "agg_data = pd.read_csv('../ExtendedData5/{}.csv'.format(fig_panel))\n",
    "\n",
    "time_var = 'FirstSessionActivityBin'\n",
    "separateby = 'SessionCombo'\n",
    "plot_var = 'FractionReactivated'\n",
    "\n",
    "colors = ['black']\n",
    "agg_data[time_var] = pd.Categorical(agg_data[time_var])\n",
    "agg_data[separateby] = pd.Categorical(agg_data[separateby], categories=['PreBaseline x Baseline', 'Baseline x PostBaseline', 'PreBaseline x PostBaseline'])\n",
    "\n",
    "visualizations.plotAcrossTime(agg_data=agg_data, time_var=time_var, separateby=separateby, plot_var=plot_var, colors=colors, plot_datalines=True, add_hline=False,\n",
    "                              y_title='% of Cells Reactivated', x_title='Percentile of<br>Prior Session Activity',plot_width=1200,plot_height=500, h_spacing=0.1, y_range=(0,100), title=fig_panel)"
   ]
  },
  {
   "cell_type": "code",
   "execution_count": null,
   "metadata": {},
   "outputs": [],
   "source": []
  }
 ],
 "metadata": {
  "kernelspec": {
   "display_name": "calcium",
   "language": "python",
   "name": "python3"
  },
  "language_info": {
   "codemirror_mode": {
    "name": "ipython",
    "version": 3
   },
   "file_extension": ".py",
   "mimetype": "text/x-python",
   "name": "python",
   "nbconvert_exporter": "python",
   "pygments_lexer": "ipython3",
   "version": "3.8.12"
  }
 },
 "nbformat": 4,
 "nbformat_minor": 2
}
