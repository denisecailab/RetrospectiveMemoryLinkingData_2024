{
 "cells": [
  {
   "cell_type": "code",
   "execution_count": 1,
   "metadata": {},
   "outputs": [],
   "source": [
    "import pandas as pd\n",
    "import visualizations"
   ]
  },
  {
   "cell_type": "markdown",
   "metadata": {},
   "source": [
    "### Fig 1b"
   ]
  },
  {
   "cell_type": "code",
   "execution_count": null,
   "metadata": {},
   "outputs": [],
   "source": [
    "fig_panel = 'Fig_1b'\n",
    "agg_data = pd.read_csv('../Figure1/{}.csv'.format(fig_panel))\n",
    "groupby = 'Direction'\n",
    "plot_var = 'Freezing'\n",
    "\n",
    "colors = 'rgb(236,34,42)'\n",
    "agg_data[groupby] = pd.Categorical(agg_data[groupby])\n",
    "\n",
    "visualizations.plotMeanData(agg_data=agg_data, groupby=groupby, plot_var=plot_var, colors=colors, opacity=1,\n",
    "                            y_title='% Freezing', plot_datapoints=True, plot_title=fig_panel)"
   ]
  },
  {
   "cell_type": "markdown",
   "metadata": {},
   "source": [
    "### Fig 1c"
   ]
  },
  {
   "cell_type": "code",
   "execution_count": null,
   "metadata": {},
   "outputs": [],
   "source": [
    "fig_panel = 'Fig_1c'\n",
    "agg_data = pd.read_csv('../Figure1/{}.csv'.format(fig_panel))\n",
    "groupby = 'Context'\n",
    "separateby = 'Direction'\n",
    "plot_var = 'Freezing'\n",
    "\n",
    "colors = ['rgb(0,50,255)','rgb(74,113,52)']\n",
    "agg_data[groupby] = pd.Categorical(agg_data[groupby])\n",
    "agg_data[separateby] = pd.Categorical(agg_data[separateby], categories=['Retrospective', 'Prospective'])\n",
    "\n",
    "visualizations.plotAcrossGroups(agg_data=agg_data, groupby=groupby, separateby=separateby, plot_var=plot_var,\n",
    "                                colors=colors, opacity=1, y_title='% Freezing', y_range=(0,100), plot_datapoints=True, plot_title=fig_panel)"
   ]
  },
  {
   "cell_type": "markdown",
   "metadata": {},
   "source": [
    "### Fig 1e"
   ]
  },
  {
   "cell_type": "code",
   "execution_count": null,
   "metadata": {},
   "outputs": [],
   "source": [
    "fig_panel = 'Fig_1e'\n",
    "agg_data = pd.read_csv('../Figure1/{}.csv'.format(fig_panel))\n",
    "groupby = 'Amplitude'\n",
    "plot_var = 'Freezing'\n",
    "\n",
    "colors = 'rgb(236,34,42)'\n",
    "agg_data[groupby] = pd.Categorical(agg_data[groupby], categories=['LowShock', 'HighShock'])\n",
    "\n",
    "visualizations.plotMeanData(agg_data=agg_data, groupby=groupby, plot_var=plot_var, colors=colors, opacity=1,\n",
    "                            y_title='% Freezing', plot_datapoints=True, plot_title=fig_panel)"
   ]
  },
  {
   "cell_type": "markdown",
   "metadata": {},
   "source": [
    "### Fig 1f"
   ]
  },
  {
   "cell_type": "code",
   "execution_count": null,
   "metadata": {},
   "outputs": [],
   "source": [
    "fig_panel = 'Fig_1f'\n",
    "agg_data = pd.read_csv('../Figure1/{}.csv'.format(fig_panel))\n",
    "groupby = 'Context'\n",
    "separateby = 'Amplitude'\n",
    "plot_var = 'Freezing'\n",
    "\n",
    "colors = ['rgb(0,50,255)','rgb(74,113,52)']\n",
    "agg_data[groupby] = pd.Categorical(agg_data[groupby])\n",
    "agg_data[separateby] = pd.Categorical(agg_data[separateby], categories=['LowShock', 'HighShock'])\n",
    "\n",
    "visualizations.plotAcrossGroups(agg_data=agg_data, groupby=groupby, separateby=separateby, plot_var=plot_var,\n",
    "                                colors=colors, opacity=1, y_title='% Freezing', y_range=(0,100), plot_datalines=True, plot_title=fig_panel)"
   ]
  },
  {
   "cell_type": "markdown",
   "metadata": {},
   "source": [
    "### Fig 1g"
   ]
  },
  {
   "cell_type": "code",
   "execution_count": null,
   "metadata": {},
   "outputs": [],
   "source": [
    "fig_panel = 'Fig_1g'\n",
    "agg_data = pd.read_csv('../Figure1/{}.csv'.format(fig_panel))\n",
    "visualizations.plotCorrelation_multifit(data_x=agg_data['AversiveFreezing'], data_y=agg_data['MemoryLinkingStrength'],\n",
    "                                        x_title='Aversive Recall Freezing', y_title='Neutral - Novel Recall Freezing', groups=agg_data['Amplitude'], title=fig_panel,\n",
    "                                        colors=['darkred' if group == 'HighShock' else 'lightblue' if group=='LowShock' else Exception('Invalid Group.') for group in agg_data['Amplitude']])"
   ]
  },
  {
   "cell_type": "code",
   "execution_count": null,
   "metadata": {},
   "outputs": [],
   "source": []
  }
 ],
 "metadata": {
  "kernelspec": {
   "display_name": "calcium",
   "language": "python",
   "name": "python3"
  },
  "language_info": {
   "codemirror_mode": {
    "name": "ipython",
    "version": 3
   },
   "file_extension": ".py",
   "mimetype": "text/x-python",
   "name": "python",
   "nbconvert_exporter": "python",
   "pygments_lexer": "ipython3",
   "version": "3.8.12"
  }
 },
 "nbformat": 4,
 "nbformat_minor": 2
}
