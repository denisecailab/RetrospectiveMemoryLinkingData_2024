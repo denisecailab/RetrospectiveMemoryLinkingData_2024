{
 "cells": [
  {
   "cell_type": "code",
   "execution_count": null,
   "metadata": {},
   "outputs": [],
   "source": [
    "import pandas as pd\n",
    "import visualizations"
   ]
  },
  {
   "cell_type": "markdown",
   "metadata": {},
   "source": [
    "### Extended Data 1a"
   ]
  },
  {
   "cell_type": "code",
   "execution_count": null,
   "metadata": {},
   "outputs": [],
   "source": [
    "fig_panel = 'ExtData1a'\n",
    "agg_data = pd.read_csv('../ExtendedData1/{}.csv'.format(fig_panel))\n",
    "\n",
    "groupby = 'Timepoint'\n",
    "plot_var = 'Freezing'\n",
    "\n",
    "colors = ['black', 'grey', 'white']\n",
    "agg_data[groupby] = pd.Categorical(agg_data[groupby], categories=['5h', '1d', '2d'])\n",
    "\n",
    "visualizations.plotMeanData(agg_data=agg_data, groupby=groupby, plot_var=plot_var, colors=colors, opacity=1,\n",
    "                            y_title='% Freezing', y_range=(0,60), plot_datapoints=True, plot_title=fig_panel)"
   ]
  },
  {
   "cell_type": "markdown",
   "metadata": {},
   "source": [
    "### Extended Data 1b"
   ]
  },
  {
   "cell_type": "code",
   "execution_count": null,
   "metadata": {},
   "outputs": [],
   "source": [
    "fig_panel = 'ExtData1b'\n",
    "agg_data = pd.read_csv('../ExtendedData1/{}.csv'.format(fig_panel))\n",
    "\n",
    "groupby = 'Timepoint'\n",
    "plot_var = 'Freezing'\n",
    "\n",
    "colors = ['black', 'grey', 'white']\n",
    "agg_data[groupby] = pd.Categorical(agg_data[groupby], categories=['5h', '1d', '2d'])\n",
    "\n",
    "visualizations.plotMeanData(agg_data=agg_data, groupby=groupby, plot_var=plot_var, colors=colors, opacity=1,\n",
    "                            y_title='% Freezing', y_range=(0,60), plot_datapoints=True, plot_title=fig_panel)"
   ]
  },
  {
   "cell_type": "markdown",
   "metadata": {},
   "source": [
    "### Extended Data 1d"
   ]
  },
  {
   "cell_type": "code",
   "execution_count": null,
   "metadata": {},
   "outputs": [],
   "source": [
    "fig_panel = 'ExtData1d'\n",
    "agg_data = pd.read_csv('../ExtendedData1/{}.csv'.format(fig_panel))\n",
    "\n",
    "groupby = 'Amplitude'\n",
    "plot_var = 'Freezing'\n",
    "\n",
    "colors = 'rgb(236,34,42)'\n",
    "agg_data[groupby] = pd.Categorical(agg_data[groupby])\n",
    "\n",
    "visualizations.plotMeanData(agg_data=agg_data, groupby=groupby, plot_var=plot_var, colors=colors, opacity=1,\n",
    "                            y_title='% Freezing', y_range=(0,100), plot_datapoints=True, plot_title=fig_panel)"
   ]
  },
  {
   "cell_type": "markdown",
   "metadata": {},
   "source": [
    "### Extended Data 1e"
   ]
  },
  {
   "cell_type": "code",
   "execution_count": null,
   "metadata": {},
   "outputs": [],
   "source": [
    "fig_panel = 'ExtData1e'\n",
    "agg_data = pd.read_csv('../ExtendedData1/{}.csv'.format(fig_panel))\n",
    "\n",
    "groupby = 'Context'\n",
    "separateby = 'Amplitude'\n",
    "plot_var = 'Freezing'\n",
    "\n",
    "colors = ['rgb(0,50,255)','rgb(74,113,52)']\n",
    "agg_data[groupby] = pd.Categorical(agg_data[groupby])\n",
    "agg_data[separateby] = pd.Categorical(agg_data[separateby])\n",
    "\n",
    "visualizations.plotAcrossGroups(agg_data=agg_data, groupby=groupby, separateby=separateby, plot_var=plot_var,\n",
    "                                colors=colors, opacity=1, y_title='% Freezing', y_range=(0,60), plot_datalines=True, plot_title=fig_panel)"
   ]
  },
  {
   "cell_type": "markdown",
   "metadata": {},
   "source": [
    "### Extended Data 1g"
   ]
  },
  {
   "cell_type": "code",
   "execution_count": null,
   "metadata": {},
   "outputs": [],
   "source": [
    "fig_panel = 'ExtData1g'\n",
    "agg_data = pd.read_csv('../ExtendedData1/{}.csv'.format(fig_panel))\n",
    "\n",
    "groupby = 'Window'\n",
    "plot_var = 'Freezing'\n",
    "\n",
    "colors = 'rgb(236,34,42)'\n",
    "agg_data[groupby] = pd.Categorical(agg_data[groupby])\n",
    "\n",
    "visualizations.plotMeanData(agg_data=agg_data, groupby=groupby, plot_var=plot_var, colors=colors, opacity=1,\n",
    "                            y_title='% Freezing', y_range=(0,100), plot_datapoints=True, plot_title=fig_panel)"
   ]
  },
  {
   "cell_type": "markdown",
   "metadata": {},
   "source": [
    "### Extended Data 1h"
   ]
  },
  {
   "cell_type": "code",
   "execution_count": null,
   "metadata": {},
   "outputs": [],
   "source": [
    "fig_panel = 'ExtData1h'\n",
    "agg_data = pd.read_csv('../ExtendedData1/{}.csv'.format(fig_panel))\n",
    "\n",
    "groupby = 'Context'\n",
    "separateby = 'Window'\n",
    "plot_var = 'Freezing'\n",
    "\n",
    "colors = ['rgb(0,50,255)','rgb(74,113,52)']\n",
    "agg_data[groupby] = pd.Categorical(agg_data[groupby])\n",
    "agg_data[separateby] = pd.Categorical(agg_data[separateby])\n",
    "\n",
    "visualizations.plotAcrossGroups(agg_data=agg_data, groupby=groupby, separateby=separateby, plot_var=plot_var,\n",
    "                                colors=colors, opacity=1, y_title='% Freezing', y_range=(0,70), plot_datalines=True, plot_title=fig_panel)"
   ]
  },
  {
   "cell_type": "markdown",
   "metadata": {},
   "source": [
    "### Extended Data 1j"
   ]
  },
  {
   "cell_type": "code",
   "execution_count": null,
   "metadata": {},
   "outputs": [],
   "source": [
    "fig_panel = 'ExtData1j'\n",
    "agg_data = pd.read_csv('../ExtendedData1/{}.csv'.format(fig_panel))\n",
    "\n",
    "groupby = 'AversiveRecallOrder'\n",
    "plot_var = 'Freezing'\n",
    "\n",
    "colors = 'rgb(236,34,42)'\n",
    "agg_data[groupby] = pd.Categorical(agg_data[groupby])\n",
    "\n",
    "visualizations.plotMeanData(agg_data=agg_data, groupby=groupby, plot_var=plot_var, colors=colors, opacity=1,\n",
    "                            y_title='% Freezing', y_range=(0,100), plot_datapoints=True, plot_title=fig_panel)"
   ]
  },
  {
   "cell_type": "markdown",
   "metadata": {},
   "source": [
    "### Extended Data 1k"
   ]
  },
  {
   "cell_type": "code",
   "execution_count": null,
   "metadata": {},
   "outputs": [],
   "source": [
    "fig_panel = 'ExtData1k'\n",
    "agg_data = pd.read_csv('../ExtendedData1/{}.csv'.format(fig_panel))\n",
    "\n",
    "groupby = 'Context'\n",
    "separateby = 'AversiveRecallOrder'\n",
    "plot_var = 'Freezing'\n",
    "\n",
    "colors = ['rgb(0,50,255)','rgb(74,113,52)']\n",
    "agg_data[groupby] = pd.Categorical(agg_data[groupby])\n",
    "agg_data[separateby] = pd.Categorical(agg_data[separateby])\n",
    "\n",
    "visualizations.plotAcrossGroups(agg_data=agg_data, groupby=groupby, separateby=separateby, plot_var=plot_var,\n",
    "                                colors=colors, opacity=1, y_title='% Freezing', y_range=(0,100), plot_datalines=True, plot_title=fig_panel)"
   ]
  },
  {
   "cell_type": "code",
   "execution_count": null,
   "metadata": {},
   "outputs": [],
   "source": []
  }
 ],
 "metadata": {
  "kernelspec": {
   "display_name": "calcium",
   "language": "python",
   "name": "python3"
  },
  "language_info": {
   "codemirror_mode": {
    "name": "ipython",
    "version": 3
   },
   "file_extension": ".py",
   "mimetype": "text/x-python",
   "name": "python",
   "nbconvert_exporter": "python",
   "pygments_lexer": "ipython3",
   "version": "3.8.12"
  }
 },
 "nbformat": 4,
 "nbformat_minor": 2
}
